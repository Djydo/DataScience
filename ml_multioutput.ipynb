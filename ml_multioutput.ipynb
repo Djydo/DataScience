{
  "nbformat": 4,
  "nbformat_minor": 0,
  "metadata": {
    "colab": {
      "name": "ml-multioutput",
      "version": "0.3.2",
      "provenance": [],
      "collapsed_sections": [],
      "toc_visible": true,
      "include_colab_link": true
    },
    "kernelspec": {
      "name": "python3",
      "display_name": "Python 3"
    }
  },
  "cells": [
    {
      "cell_type": "markdown",
      "metadata": {
        "id": "view-in-github",
        "colab_type": "text"
      },
      "source": [
        "<a href=\"https://colab.research.google.com/github/Djydo/data-science/blob/master/ml_multioutput.ipynb\" target=\"_parent\"><img src=\"https://colab.research.google.com/assets/colab-badge.svg\" alt=\"Open In Colab\"/></a>"
      ]
    },
    {
      "cell_type": "code",
      "metadata": {
        "id": "QHMR0AYcxeP6",
        "colab_type": "code",
        "colab": {}
      },
      "source": [
        "!pip install scikit-multilearn"
      ],
      "execution_count": 0,
      "outputs": []
    },
    {
      "cell_type": "code",
      "metadata": {
        "id": "qHAKxu1vloLI",
        "colab_type": "code",
        "colab": {}
      },
      "source": [
        "import pandas as pd\n",
        "import matplotlib.pyplot as plt\n",
        "from sklearn.preprocessing import LabelEncoder\n",
        "from google.colab import files\n",
        "from sklearn.decomposition import PCA\n",
        "from skmultilearn.problem_transform import BinaryRelevance\n",
        "from sklearn.linear_model import LogisticRegression\n",
        "from sklearn.metrics import accuracy_score"
      ],
      "execution_count": 0,
      "outputs": []
    },
    {
      "cell_type": "markdown",
      "metadata": {
        "id": "izwtukrly60N",
        "colab_type": "text"
      },
      "source": [
        "### Mount Google drive "
      ]
    },
    {
      "cell_type": "code",
      "metadata": {
        "id": "bpMboiiSvfKb",
        "colab_type": "code",
        "outputId": "d9cc6c5e-6526-4a61-a9ec-cbb1703037cb",
        "colab": {
          "base_uri": "https://localhost:8080/",
          "height": 34
        }
      },
      "source": [
        "# Run this cell to mount your Google Drive.\n",
        "from google.colab import drive\n",
        "drive.mount(\"/content/drive\", force_remount=True)"
      ],
      "execution_count": 0,
      "outputs": [
        {
          "output_type": "stream",
          "text": [
            "Mounted at /content/drive\n"
          ],
          "name": "stdout"
        }
      ]
    },
    {
      "cell_type": "markdown",
      "metadata": {
        "id": "u7GmyjVO9deT",
        "colab_type": "text"
      },
      "source": [
        "### Feature Engineering   \n",
        "In the following cell, we perform feature engineering on raw data sample by transforming the categorical data  to numerical data.\n",
        "\n",
        "Also, the 'age' column is dropped and substituted with its alternative 'agecode'.\n"
      ]
    },
    {
      "cell_type": "code",
      "metadata": {
        "id": "AS-QSiLwmQmO",
        "colab_type": "code",
        "colab": {}
      },
      "source": [
        "# read data from googledrive file 'pysch_disease_dat.csv' into dataframe\n",
        "path = \"/content/drive/My Drive/pysch_disease_dat.csv\"\n",
        "df = pd.read_csv(path)\n",
        "\n",
        "#select the features/labels to transform and apply corresponding transformation\n",
        "labels = ['Insomnia', 'schizophrenia', 'vascula_demetia', 'MBD', 'Bipolar']\n",
        "features = ['sex', 'faNoily_status', 'religion', 'occupation', 'genetic', \\\n",
        "           'status', 'loss_of_parent', 'divorce', 'Injury', 'Spiritual_consult']\n",
        "label_transform = df[labels].apply(LabelEncoder().fit_transform)\n",
        "feature_transform = df[features].apply(LabelEncoder().fit_transform)\n",
        "df_transform = pd.concat([df['agecode'], feature_transform, label_transform], axis=1)\n",
        "df_transform.to_csv('patient_data',header=False, index=False)\n",
        "\n"
      ],
      "execution_count": 0,
      "outputs": []
    },
    {
      "cell_type": "code",
      "metadata": {
        "id": "kjMuoOUTmQ6i",
        "colab_type": "code",
        "colab": {}
      },
      "source": [
        "# a glimpse into transform data frame\n",
        "\n",
        "# print(\"raw data (rows, columns): {}\".format(df.shape))\n",
        "# print(\"data frame size (rows, columns): {}\\n\".format(df_transform.shape))\n",
        "# print(df_transform.dtypes)\n",
        "# df_transform.describe()\n",
        "\n",
        "# df_transform[df[features].dtypes.index.values].hist(figsize=[11,11])\n",
        "# df_transform[df[labels].dtypes.index.values].hist(figsize=[11,11])\n"
      ],
      "execution_count": 0,
      "outputs": []
    },
    {
      "cell_type": "code",
      "metadata": {
        "id": "tiWGOvQvt7H_",
        "colab_type": "code",
        "outputId": "e550ebe7-19e7-4dba-fef6-26db15975770",
        "colab": {
          "base_uri": "https://localhost:8080/",
          "height": 340
        }
      },
      "source": [
        "from sklearn.model_selection import train_test_split\n",
        "raw_data = pd.read_csv('patient_data', header=None)\n",
        "X, y = raw_data.loc[:,0:10], raw_data.loc[:,11:15]\n",
        "X_train, X_test, y_train, y_test = train_test_split(X, y, test_size=0.2)\n",
        "\n",
        "# print(X_train.shape, y_train.shape)\n",
        "# print(X_test.shape, y_test.shape)\n",
        "\n",
        "# print(X_train.head())\n",
        "# y_train.head()"
      ],
      "execution_count": 63,
      "outputs": [
        {
          "output_type": "stream",
          "text": [
            "(400, 11) (400, 5)\n",
            "(100, 11) (100, 5)\n",
            "     0   1   2   3   4   5   6   7   8   9   10\n",
            "39    2   1   0   1   0   0   0   1   0   0   1\n",
            "34    1   1   0   1   4   1   1   0   0   0   1\n",
            "4     1   1   1   1   0   1   0   0   0   0   1\n",
            "406   2   1   1   1   0   0   0   1   0   0   1\n",
            "178   3   0   1   2   3   0   0   0   0   0   1\n"
          ],
          "name": "stdout"
        },
        {
          "output_type": "execute_result",
          "data": {
            "text/html": [
              "<div>\n",
              "<style scoped>\n",
              "    .dataframe tbody tr th:only-of-type {\n",
              "        vertical-align: middle;\n",
              "    }\n",
              "\n",
              "    .dataframe tbody tr th {\n",
              "        vertical-align: top;\n",
              "    }\n",
              "\n",
              "    .dataframe thead th {\n",
              "        text-align: right;\n",
              "    }\n",
              "</style>\n",
              "<table border=\"1\" class=\"dataframe\">\n",
              "  <thead>\n",
              "    <tr style=\"text-align: right;\">\n",
              "      <th></th>\n",
              "      <th>11</th>\n",
              "      <th>12</th>\n",
              "      <th>13</th>\n",
              "      <th>14</th>\n",
              "      <th>15</th>\n",
              "    </tr>\n",
              "  </thead>\n",
              "  <tbody>\n",
              "    <tr>\n",
              "      <th>39</th>\n",
              "      <td>0</td>\n",
              "      <td>1</td>\n",
              "      <td>1</td>\n",
              "      <td>1</td>\n",
              "      <td>0</td>\n",
              "    </tr>\n",
              "    <tr>\n",
              "      <th>34</th>\n",
              "      <td>1</td>\n",
              "      <td>1</td>\n",
              "      <td>0</td>\n",
              "      <td>1</td>\n",
              "      <td>1</td>\n",
              "    </tr>\n",
              "    <tr>\n",
              "      <th>4</th>\n",
              "      <td>1</td>\n",
              "      <td>1</td>\n",
              "      <td>1</td>\n",
              "      <td>1</td>\n",
              "      <td>1</td>\n",
              "    </tr>\n",
              "    <tr>\n",
              "      <th>406</th>\n",
              "      <td>0</td>\n",
              "      <td>1</td>\n",
              "      <td>1</td>\n",
              "      <td>0</td>\n",
              "      <td>0</td>\n",
              "    </tr>\n",
              "    <tr>\n",
              "      <th>178</th>\n",
              "      <td>1</td>\n",
              "      <td>0</td>\n",
              "      <td>0</td>\n",
              "      <td>0</td>\n",
              "      <td>1</td>\n",
              "    </tr>\n",
              "  </tbody>\n",
              "</table>\n",
              "</div>"
            ],
            "text/plain": [
              "     11  12  13  14  15\n",
              "39    0   1   1   1   0\n",
              "34    1   1   0   1   1\n",
              "4     1   1   1   1   1\n",
              "406   0   1   1   0   0\n",
              "178   1   0   0   0   1"
            ]
          },
          "metadata": {
            "tags": []
          },
          "execution_count": 63
        }
      ]
    },
    {
      "cell_type": "code",
      "metadata": {
        "id": "dxx6hcVX7m1W",
        "colab_type": "code",
        "colab": {}
      },
      "source": [
        ""
      ],
      "execution_count": 0,
      "outputs": []
    },
    {
      "cell_type": "markdown",
      "metadata": {
        "id": "Qqrtp2E2CkNd",
        "colab_type": "text"
      },
      "source": [
        "###  Binary Relevance using Logistic Regression classifier"
      ]
    },
    {
      "cell_type": "code",
      "metadata": {
        "id": "iTolNEOdxQpS",
        "colab_type": "code",
        "colab": {
          "base_uri": "https://localhost:8080/",
          "height": 51
        },
        "outputId": "c90016f9-1234-486a-e7ef-7143ca9e4a69"
      },
      "source": [
        "classifier = BinaryRelevance(LogisticRegression(solver='liblinear'))\n",
        "classifier.fit(X_train, y_train)\n",
        "print(classifier.score(X_train, y_train))\n",
        "\n",
        "predictions = classifier.predict(X_test)\n",
        "accuracy_score(y_test,predictions)\n"
      ],
      "execution_count": 47,
      "outputs": [
        {
          "output_type": "stream",
          "text": [
            "0.375\n"
          ],
          "name": "stdout"
        },
        {
          "output_type": "execute_result",
          "data": {
            "text/plain": [
              "0.27"
            ]
          },
          "metadata": {
            "tags": []
          },
          "execution_count": 47
        }
      ]
    },
    {
      "cell_type": "code",
      "metadata": {
        "id": "rHkloWA7C6sb",
        "colab_type": "code",
        "colab": {
          "base_uri": "https://localhost:8080/",
          "height": 51
        },
        "outputId": "b03dd852-15c0-44ef-9067-cf7aa17b8410"
      },
      "source": [
        "from sklearn.multioutput import MultiOutputClassifier\n",
        "from sklearn.ensemble import RandomForestClassifier\n",
        "\n",
        "forest = RandomForestClassifier(n_estimators=11, random_state=1)\n",
        "multi_target_forest = MultiOutputClassifier(forest, n_jobs=-1)\n",
        "f_classifier = multi_target_forest.fit(X_train, y_train)\n",
        "print(f_classifier.score(X_train, y_train))\n",
        "\n",
        "predictions = f_classifier.predict(X_test)\n",
        "accuracy_score(y_test,predictions)\n"
      ],
      "execution_count": 48,
      "outputs": [
        {
          "output_type": "stream",
          "text": [
            "0.8625\n"
          ],
          "name": "stdout"
        },
        {
          "output_type": "execute_result",
          "data": {
            "text/plain": [
              "0.28"
            ]
          },
          "metadata": {
            "tags": []
          },
          "execution_count": 48
        }
      ]
    },
    {
      "cell_type": "code",
      "metadata": {
        "id": "bb0zRwqpFgX9",
        "colab_type": "code",
        "colab": {
          "base_uri": "https://localhost:8080/",
          "height": 51
        },
        "outputId": "63888401-4ab2-4799-a7b6-4320e8c8efe1"
      },
      "source": [
        "from skmultilearn.problem_transform import ClassifierChain\n",
        "from sklearn.naive_bayes import GaussianNB\n",
        "\n",
        "classifier = ClassifierChain(LogisticRegression(solver='liblinear'))  #0.28484848484848485\n",
        "# classifier = ClassifierChain(forest) # 0.3151515151515151\n",
        "classifier.fit(X_train, y_train)\n",
        "print(classifier.score(X_train, y_train))\n",
        "\n",
        "# predict\n",
        "predictions = classifier.predict(X_test)\n",
        "accuracy_score(y_test,predictions)"
      ],
      "execution_count": 49,
      "outputs": [
        {
          "output_type": "stream",
          "text": [
            "0.37\n"
          ],
          "name": "stdout"
        },
        {
          "output_type": "execute_result",
          "data": {
            "text/plain": [
              "0.28"
            ]
          },
          "metadata": {
            "tags": []
          },
          "execution_count": 49
        }
      ]
    },
    {
      "cell_type": "code",
      "metadata": {
        "id": "FE6SSA1YHZfs",
        "colab_type": "code",
        "colab": {
          "base_uri": "https://localhost:8080/",
          "height": 51
        },
        "outputId": "21e9639b-1b2d-4075-d011-0cf49f0a5d16"
      },
      "source": [
        "from skmultilearn.problem_transform import LabelPowerset\n",
        "\n",
        "classifier = LabelPowerset(LogisticRegression(solver='liblinear',multi_class='ovr'))\n",
        "classifier.fit(X_train, y_train)\n",
        "print(classifier.score(X_train, y_train))\n",
        "\n",
        "predictions = classifier.predict(X_test)\n",
        "accuracy_score(y_test,predictions)"
      ],
      "execution_count": 50,
      "outputs": [
        {
          "output_type": "stream",
          "text": [
            "0.415\n"
          ],
          "name": "stdout"
        },
        {
          "output_type": "execute_result",
          "data": {
            "text/plain": [
              "0.29"
            ]
          },
          "metadata": {
            "tags": []
          },
          "execution_count": 50
        }
      ]
    },
    {
      "cell_type": "markdown",
      "metadata": {
        "id": "iSTZ3Nee3TZV",
        "colab_type": "text"
      },
      "source": [
        "## References   \n",
        "1. Stack Overflow feature and label categorical transformation. [link](https://stackoverflow.com/questions/24458645/label-encoding-across-multiple-columns-in-scikit-learn/34780935)\n",
        "2. "
      ]
    },
    {
      "cell_type": "code",
      "metadata": {
        "id": "f1J_nl7IpO0A",
        "colab_type": "code",
        "colab": {}
      },
      "source": [
        ""
      ],
      "execution_count": 0,
      "outputs": []
    }
  ]
}