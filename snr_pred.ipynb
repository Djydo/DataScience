{
  "nbformat": 4,
  "nbformat_minor": 0,
  "metadata": {
    "colab": {
      "name": "snr_pred.ipynb",
      "version": "0.3.2",
      "provenance": [],
      "collapsed_sections": [],
      "toc_visible": true,
      "include_colab_link": true
    },
    "kernelspec": {
      "name": "python3",
      "display_name": "Python 3"
    }
  },
  "cells": [
    {
      "cell_type": "markdown",
      "metadata": {
        "id": "view-in-github",
        "colab_type": "text"
      },
      "source": [
        "<a href=\"https://colab.research.google.com/github/Djydo/data-science/blob/master/snr_pred.ipynb\" target=\"_parent\"><img src=\"https://colab.research.google.com/assets/colab-badge.svg\" alt=\"Open In Colab\"/></a>"
      ]
    },
    {
      "cell_type": "markdown",
      "metadata": {
        "id": "tgdA0kuJlFUY",
        "colab_type": "text"
      },
      "source": [
        "# Prediction of effective SNR using channel state information (CSI)"
      ]
    },
    {
      "cell_type": "code",
      "metadata": {
        "id": "N_EIxef3jbBY",
        "colab_type": "code",
        "colab": {}
      },
      "source": [
        "from sklearn.model_selection import train_test_split\n",
        "from sklearn.linear_model import LinearRegression\n",
        "from sklearn.neighbors import KNeighborsClassifier\n",
        "from sklearn.svm import SVC\n",
        "from sklearn.metrics import r2_score, mean_absolute_error, mean_squared_error\n",
        "import pandas as pd"
      ],
      "execution_count": 0,
      "outputs": []
    },
    {
      "cell_type": "code",
      "metadata": {
        "id": "i9GDIZkgr8Ej",
        "colab_type": "code",
        "colab": {}
      },
      "source": [
        "! cd ~"
      ],
      "execution_count": 0,
      "outputs": []
    },
    {
      "cell_type": "code",
      "metadata": {
        "id": "cb6WFfCVlvGl",
        "colab_type": "code",
        "colab": {}
      },
      "source": [
        "psk_data = pd.read_csv('/home/psk_data.csv', header=None)\n",
        "qpsk_data = pd.read_csv('/home/qpsk_data.csv', header=None)\n",
        "qam16_data = pd.read_csv('/home/qam16_data.csv', header=None)\n",
        "qam64_data = pd.read_csv('/home/qam64_data.csv', header=None)\n",
        "\n",
        "# pskLabel, pskFeatures = psk_data[112], psk_data.drop([112], axis=1)\n",
        "# qpskLabel, qpskFeatures = qpsk_data[112], qpsk_data.drop([112], axis=1)\n",
        "# qam16Label, qam16Features = qam16_data[112], qam16_data.drop([112], axis=1)\n",
        "# qam64Label, qam64Features = qam64_data[112], qam64_data.drop([112], axis=1)\n",
        "# qam16Features.shape"
      ],
      "execution_count": 0,
      "outputs": []
    },
    {
      "cell_type": "code",
      "metadata": {
        "id": "03arOsOTrzFy",
        "colab_type": "code",
        "colab": {}
      },
      "source": [
        "from google.colab import drive\n",
        "drive.mount('/content/drive')"
      ],
      "execution_count": 0,
      "outputs": []
    },
    {
      "cell_type": "code",
      "metadata": {
        "id": "8dz8gTlVs6i9",
        "colab_type": "code",
        "outputId": "c8a7d0b5-ebbb-4db5-b730-3582079abcae",
        "colab": {
          "base_uri": "https://localhost:8080/",
          "height": 136
        }
      },
      "source": [
        "PSKFeatures, PSKLabel= psk_data.loc[:,0:111], psk_data.loc[:,112]\n",
        "QPSKLabel, QPSKFeatures = qpsk_data.loc[:,0:111], qpsk_data.loc[:,112]\n",
        "QAM16Label, QAM16Features = qam16_data.loc[:,0:111], qam16_data.loc[:, 112]\n",
        "QAM64Label, QAM64Features = qam64_data.loc[:,0:111], qam64_data.loc[:, 112]\n",
        "\n",
        "print(PSKLabel.shape)\n",
        "PSKLabel.head()\n"
      ],
      "execution_count": 107,
      "outputs": [
        {
          "output_type": "stream",
          "text": [
            "(217,)\n"
          ],
          "name": "stdout"
        },
        {
          "output_type": "execute_result",
          "data": {
            "text/plain": [
              "0    189.250\n",
              "1    220.300\n",
              "2    272.530\n",
              "3     84.308\n",
              "4    290.780\n",
              "Name: 112, dtype: float64"
            ]
          },
          "metadata": {
            "tags": []
          },
          "execution_count": 107
        }
      ]
    },
    {
      "cell_type": "code",
      "metadata": {
        "id": "7HmK3qJfmhn_",
        "colab_type": "code",
        "colab": {}
      },
      "source": [
        "X_pskTrain, X_pskTest, y_pskTrain, y_pskTest = train_test_split(PSKFeatures, PSKLabel,test_size=0.2)\n",
        "# X_qpskTrain, X_qpskTest, y_qpskTrain, y_qpskTest = train_test_split(QPSKFeatures, QPSKLabel,test_size=0.2)\n",
        "# X_qam16Train, X_qam16Test, y_qam16Train, y_qam16Test = train_test_split(QAM16Features, QAM16Label,test_size=0.2)\n",
        "# X_qam64Train, X_qam64Test, y_qam64Train, y_qam64Test = train_test_split(QAM64Features, QAM64Label,test_size=0.2)"
      ],
      "execution_count": 0,
      "outputs": []
    },
    {
      "cell_type": "code",
      "metadata": {
        "id": "u0kZqEgDmh_3",
        "colab_type": "code",
        "colab": {
          "base_uri": "https://localhost:8080/",
          "height": 231
        },
        "outputId": "bad445c6-9afa-4406-bdd7-b79dc690a65a"
      },
      "source": [
        "lr = LinearRegression(normalize=True)\n",
        "lr.fit(X_pskTrain, y_pskTrain)\n",
        "# lr.score(X_pskTrain, y_pskTrain)\n",
        "\n",
        "predictions = lr.predict(X_pskTest)\n",
        "r2_score(y_pskTest, predictions)\n",
        "df_compare = pd.DataFrame({'g_truth': y_pskTest.round(2), 'Predicted': predictions.round(2)})\n",
        "df_compare.plot(kind='bar',figsize=(20,12))"
      ],
      "execution_count": 1,
      "outputs": [
        {
          "output_type": "error",
          "ename": "NameError",
          "evalue": "ignored",
          "traceback": [
            "\u001b[0;31m---------------------------------------------------------------------------\u001b[0m",
            "\u001b[0;31mNameError\u001b[0m                                 Traceback (most recent call last)",
            "\u001b[0;32m<ipython-input-1-7dfe3dfe8fd6>\u001b[0m in \u001b[0;36m<module>\u001b[0;34m()\u001b[0m\n\u001b[0;32m----> 1\u001b[0;31m \u001b[0mlr\u001b[0m \u001b[0;34m=\u001b[0m \u001b[0mLinearRegression\u001b[0m\u001b[0;34m(\u001b[0m\u001b[0mnormalize\u001b[0m\u001b[0;34m=\u001b[0m\u001b[0;32mTrue\u001b[0m\u001b[0;34m)\u001b[0m\u001b[0;34m\u001b[0m\u001b[0;34m\u001b[0m\u001b[0m\n\u001b[0m\u001b[1;32m      2\u001b[0m \u001b[0mlr\u001b[0m\u001b[0;34m.\u001b[0m\u001b[0mfit\u001b[0m\u001b[0;34m(\u001b[0m\u001b[0mX_pskTrain\u001b[0m\u001b[0;34m,\u001b[0m \u001b[0my_pskTrain\u001b[0m\u001b[0;34m)\u001b[0m\u001b[0;34m\u001b[0m\u001b[0;34m\u001b[0m\u001b[0m\n\u001b[1;32m      3\u001b[0m \u001b[0;31m# lr.score(X_pskTrain, y_pskTrain)\u001b[0m\u001b[0;34m\u001b[0m\u001b[0;34m\u001b[0m\u001b[0;34m\u001b[0m\u001b[0m\n\u001b[1;32m      4\u001b[0m \u001b[0;34m\u001b[0m\u001b[0m\n\u001b[1;32m      5\u001b[0m \u001b[0mpredictions\u001b[0m \u001b[0;34m=\u001b[0m \u001b[0mlr\u001b[0m\u001b[0;34m.\u001b[0m\u001b[0mpredict\u001b[0m\u001b[0;34m(\u001b[0m\u001b[0mX_pskTest\u001b[0m\u001b[0;34m)\u001b[0m\u001b[0;34m\u001b[0m\u001b[0;34m\u001b[0m\u001b[0m\n",
            "\u001b[0;31mNameError\u001b[0m: name 'LinearRegression' is not defined"
          ]
        }
      ]
    },
    {
      "cell_type": "code",
      "metadata": {
        "id": "xr413ZQ3EdWB",
        "colab_type": "code",
        "colab": {}
      },
      "source": [
        "print('Mean Absolute Error:', mean_absolute_error(y_pskTest, predictions))  \n",
        "print('Mean Squared Error:', mean_squared_error(y_pskTest, predictions))  \n",
        "# print('Root Mean Squared Error:', np.sqrt(metrics.mean_squared_error(y_test, y_pred)))\n"
      ],
      "execution_count": 0,
      "outputs": []
    }
  ]
}