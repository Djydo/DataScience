{
  "nbformat": 4,
  "nbformat_minor": 0,
  "metadata": {
    "colab": {
      "name": "ml-multioutput",
      "version": "0.3.2",
      "provenance": [],
      "collapsed_sections": [],
      "toc_visible": true,
      "include_colab_link": true
    },
    "kernelspec": {
      "name": "python3",
      "display_name": "Python 3"
    }
  },
  "cells": [
    {
      "cell_type": "markdown",
      "metadata": {
        "id": "view-in-github",
        "colab_type": "text"
      },
      "source": [
        "<a href=\"https://colab.research.google.com/github/Djydo/data-science/blob/master/ml_multioutput.ipynb\" target=\"_parent\"><img src=\"https://colab.research.google.com/assets/colab-badge.svg\" alt=\"Open In Colab\"/></a>"
      ]
    },
    {
      "cell_type": "code",
      "metadata": {
        "id": "QHMR0AYcxeP6",
        "colab_type": "code",
        "colab": {
          "base_uri": "https://localhost:8080/",
          "height": 34
        },
        "outputId": "6136b94a-e7b6-4269-825d-23c9700db9cd"
      },
      "source": [
        "!pip install scikit-multilearn"
      ],
      "execution_count": 1,
      "outputs": [
        {
          "output_type": "stream",
          "text": [
            "Requirement already satisfied: scikit-multilearn in /usr/local/lib/python3.6/dist-packages (0.2.0)\n"
          ],
          "name": "stdout"
        }
      ]
    },
    {
      "cell_type": "code",
      "metadata": {
        "id": "qHAKxu1vloLI",
        "colab_type": "code",
        "colab": {}
      },
      "source": [
        "import pandas as pd\n",
        "import numpy as np\n",
        "import matplotlib.pyplot as plt\n",
        "from sklearn.preprocessing import LabelEncoder\n",
        "from google.colab import files\n",
        "\n",
        "from sklearn.decomposition import PCA\n",
        "from skmultilearn.problem_transform import BinaryRelevance\n",
        "from sklearn.linear_model import LogisticRegression\n",
        "from sklearn.metrics import accuracy_score"
      ],
      "execution_count": 0,
      "outputs": []
    },
    {
      "cell_type": "markdown",
      "metadata": {
        "id": "izwtukrly60N",
        "colab_type": "text"
      },
      "source": [
        "### Mount Google drive "
      ]
    },
    {
      "cell_type": "code",
      "metadata": {
        "id": "bpMboiiSvfKb",
        "colab_type": "code",
        "outputId": "0a20a95c-e54d-4ceb-ea53-1cabf033934c",
        "colab": {
          "base_uri": "https://localhost:8080/",
          "height": 34
        }
      },
      "source": [
        "# Run this cell to mount your Google Drive.\n",
        "from google.colab import drive\n",
        "drive.mount(\"/content/drive\", force_remount=True)"
      ],
      "execution_count": 3,
      "outputs": [
        {
          "output_type": "stream",
          "text": [
            "Mounted at /content/drive\n"
          ],
          "name": "stdout"
        }
      ]
    },
    {
      "cell_type": "markdown",
      "metadata": {
        "id": "u7GmyjVO9deT",
        "colab_type": "text"
      },
      "source": [
        "### Feature Engineering   \n",
        "In the following cell, we perform feature engineering on raw data sample by transforming the categorical data  to numerical data.\n",
        "\n",
        "Also, the 'age' column is dropped and substituted with its alternative 'agecode'.\n"
      ]
    },
    {
      "cell_type": "code",
      "metadata": {
        "id": "AS-QSiLwmQmO",
        "colab_type": "code",
        "colab": {}
      },
      "source": [
        "# read data from googledrive file 'pysch_disease_dat.csv' into dataframe\n",
        "path = \"/content/drive/My Drive/pysch_disease_dat.csv\"\n",
        "df = pd.read_csv(path)\n",
        "\n",
        "#select the features/labels to transform and apply corresponding transformation\n",
        "labels = ['Insomnia', 'schizophrenia', 'vascula_demetia', 'MBD', 'Bipolar']\n",
        "features = ['sex', 'faNoily_status', 'religion', 'occupation', 'genetic', \\\n",
        "           'status', 'loss_of_parent', 'divorce', 'Injury', 'Spiritual_consult']\n",
        "\n",
        "label_transform = df[labels].apply(LabelEncoder().fit_transform)\n",
        "feature_transform = df[features].apply(LabelEncoder().fit_transform)\n",
        "df_transform = pd.concat([df['agecode'], feature_transform, label_transform], axis=1)\n",
        "df_transform.to_csv('patient_data',header=False, index=False)\n",
        "\n"
      ],
      "execution_count": 0,
      "outputs": []
    },
    {
      "cell_type": "code",
      "metadata": {
        "id": "kjMuoOUTmQ6i",
        "colab_type": "code",
        "colab": {}
      },
      "source": [
        "# a glimpse into transform data frame\n",
        "\n",
        "# print(\"raw data (rows, columns): {}\".format(df.shape))\n",
        "# print(\"data frame size (rows, columns): {}\\n\".format(df_transform.shape))\n",
        "# print(df_transform.dtypes)\n",
        "# df_transform.describe()\n",
        "\n",
        "# df_transform[df[features].dtypes.index.values].hist(figsize=[11,11])\n",
        "# df_transform[df[labels].dtypes.index.values].hist(figsize=[11,11])\n"
      ],
      "execution_count": 0,
      "outputs": []
    },
    {
      "cell_type": "code",
      "metadata": {
        "id": "tiWGOvQvt7H_",
        "colab_type": "code",
        "colab": {}
      },
      "source": [
        "from sklearn.model_selection import train_test_split\n",
        "raw_data = pd.read_csv('patient_data', header=None)\n",
        "X, y = raw_data.loc[:,0:10], raw_data.loc[:,11:15]\n",
        "X_train, X_test, y_train, y_test = train_test_split(X, y, test_size=0.2)\n"
      ],
      "execution_count": 0,
      "outputs": []
    },
    {
      "cell_type": "code",
      "metadata": {
        "id": "Zwl-g0kSIjC_",
        "colab_type": "code",
        "colab": {
          "base_uri": "https://localhost:8080/",
          "height": 295
        },
        "outputId": "da8ec400-5264-457f-e03c-ff1afdb6d05a"
      },
      "source": [
        "#Fitting the PCA algorithm with our Data\n",
        "pca = PCA().fit(X)\n",
        "#Plotting the Cumulative Summation of the Explained Variance\n",
        "plt.figure()\n",
        "plt.plot(np.cumsum(pca.explained_variance_ratio_))\n",
        "plt.xlabel('Number of Components')\n",
        "plt.ylabel('Variance (%)') #for each component\n",
        "plt.title('Patient Dataset')\n",
        "plt.show()"
      ],
      "execution_count": 24,
      "outputs": [
        {
          "output_type": "display_data",
          "data": {
            "image/png": "[encoded data removed]",
            "text/plain": [
              "<Figure size 432x288 with 1 Axes>"
            ]
          },
          "metadata": {
            "tags": []
          }
        }
      ]
    },
    {
      "cell_type": "markdown",
      "metadata": {
        "id": "Qqrtp2E2CkNd",
        "colab_type": "text"
      },
      "source": [
        "###  Binary Relevance using Logistic Regression classifier"
      ]
    },
    {
      "cell_type": "code",
      "metadata": {
        "id": "iTolNEOdxQpS",
        "colab_type": "code",
        "colab": {
          "base_uri": "https://localhost:8080/",
          "height": 51
        },
        "outputId": "3286b5bd-9e72-4dd5-af19-9ab4d75d98c8"
      },
      "source": [
        "classifier = BinaryRelevance(LogisticRegression(solver='liblinear'))\n",
        "classifier.fit(X_train, y_train)\n",
        "print(classifier.score(X_train, y_train))\n",
        "\n",
        "predictions = classifier.predict(X_test)\n",
        "accuracy_score(y_test,predictions)\n"
      ],
      "execution_count": 6,
      "outputs": [
        {
          "output_type": "stream",
          "text": [
            "0.375\n"
          ],
          "name": "stdout"
        },
        {
          "output_type": "execute_result",
          "data": {
            "text/plain": [
              "0.32"
            ]
          },
          "metadata": {
            "tags": []
          },
          "execution_count": 6
        }
      ]
    },
    {
      "cell_type": "code",
      "metadata": {
        "id": "rHkloWA7C6sb",
        "colab_type": "code",
        "colab": {
          "base_uri": "https://localhost:8080/",
          "height": 51
        },
        "outputId": "eed71fa9-471f-4400-f8c7-ceb716d2ba56"
      },
      "source": [
        "from sklearn.multioutput import MultiOutputClassifier\n",
        "from sklearn.ensemble import RandomForestClassifier\n",
        "\n",
        "forest = RandomForestClassifier(n_estimators=11, random_state=1)\n",
        "multi_target_forest = MultiOutputClassifier(forest)\n",
        "f_classifier = multi_target_forest.fit(X_train, y_train)\n",
        "print(f_classifier.score(X_train, y_train))\n",
        "\n",
        "predictions = f_classifier.predict(X_test)\n",
        "accuracy_score(y_test,predictions)\n"
      ],
      "execution_count": 7,
      "outputs": [
        {
          "output_type": "stream",
          "text": [
            "0.85\n"
          ],
          "name": "stdout"
        },
        {
          "output_type": "execute_result",
          "data": {
            "text/plain": [
              "0.26"
            ]
          },
          "metadata": {
            "tags": []
          },
          "execution_count": 7
        }
      ]
    },
    {
      "cell_type": "code",
      "metadata": {
        "id": "bb0zRwqpFgX9",
        "colab_type": "code",
        "colab": {
          "base_uri": "https://localhost:8080/",
          "height": 51
        },
        "outputId": "0c518f31-04b0-4283-e54d-ee0e454d8585"
      },
      "source": [
        "from skmultilearn.problem_transform import ClassifierChain\n",
        "from sklearn.naive_bayes import GaussianNB\n",
        "\n",
        "classifier = ClassifierChain(LogisticRegression(solver='liblinear'))  #0.28484848484848485\n",
        "# classifier = ClassifierChain(forest) # 0.3151515151515151\n",
        "classifier.fit(X_train, y_train)\n",
        "print(classifier.score(X_train, y_train))\n",
        "\n",
        "# predict\n",
        "predictions = classifier.predict(X_test)\n",
        "accuracy_score(y_test,predictions)"
      ],
      "execution_count": 9,
      "outputs": [
        {
          "output_type": "stream",
          "text": [
            "0.3725\n"
          ],
          "name": "stdout"
        },
        {
          "output_type": "execute_result",
          "data": {
            "text/plain": [
              "0.35"
            ]
          },
          "metadata": {
            "tags": []
          },
          "execution_count": 9
        }
      ]
    },
    {
      "cell_type": "code",
      "metadata": {
        "id": "FE6SSA1YHZfs",
        "colab_type": "code",
        "colab": {
          "base_uri": "https://localhost:8080/",
          "height": 51
        },
        "outputId": "7f7c08d7-000a-4350-989d-efffb3c5ba09"
      },
      "source": [
        "from skmultilearn.problem_transform import LabelPowerset\n",
        "\n",
        "\n",
        "classifier = LabelPowerset(LogisticRegression(solver='liblinear',multi_class='auto'))\n",
        "classifier.fit(X_train, y_train)\n",
        "print(classifier.score(X_train, y_train))\n",
        "\n",
        "predictions = classifier.predict(X_test)\n",
        "accuracy_score(y_test,predictions)"
      ],
      "execution_count": 10,
      "outputs": [
        {
          "output_type": "stream",
          "text": [
            "0.405\n"
          ],
          "name": "stdout"
        },
        {
          "output_type": "execute_result",
          "data": {
            "text/plain": [
              "0.37"
            ]
          },
          "metadata": {
            "tags": []
          },
          "execution_count": 10
        }
      ]
    },
    {
      "cell_type": "code",
      "metadata": {
        "id": "7Y4znPW0-opf",
        "colab_type": "code",
        "colab": {
          "base_uri": "https://localhost:8080/",
          "height": 51
        },
        "outputId": "8c025c3f-4c5e-4cf0-9233-8d961274d746"
      },
      "source": [
        "from skmultilearn.adapt import MLkNN\n",
        "from scipy.sparse import lil_matrix\n",
        "\n",
        "X_train = lil_matrix(X_train).toarray()\n",
        "y_train = lil_matrix(y_train).toarray()\n",
        "X_test = lil_matrix(X_test).toarray()\n",
        "\n",
        "classifier = MLkNN(k=13)\n",
        "classifier.fit(X_train, y_train)\n",
        "print(classifier.score(X_train, y_train))\n",
        "\n",
        "predictions = classifier.predict(X_test)\n",
        "accuracy_score(y_test,predictions)"
      ],
      "execution_count": 19,
      "outputs": [
        {
          "output_type": "stream",
          "text": [
            "0.435\n"
          ],
          "name": "stdout"
        },
        {
          "output_type": "execute_result",
          "data": {
            "text/plain": [
              "0.27"
            ]
          },
          "metadata": {
            "tags": []
          },
          "execution_count": 19
        }
      ]
    },
    {
      "cell_type": "markdown",
      "metadata": {
        "id": "iSTZ3Nee3TZV",
        "colab_type": "text"
      },
      "source": [
        "## References   \n",
        "1. Stack Overflow feature and label categorical transformation. [link](https://stackoverflow.com/questions/24458645/label-encoding-across-multiple-columns-in-scikit-learn/34780935)\n",
        "2. "
      ]
    },
    {
      "cell_type": "code",
      "metadata": {
        "id": "f1J_nl7IpO0A",
        "colab_type": "code",
        "colab": {}
      },
      "source": [
        ""
      ],
      "execution_count": 0,
      "outputs": []
    }
  ]
}