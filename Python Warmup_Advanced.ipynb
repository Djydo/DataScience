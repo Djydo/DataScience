{
 "cells": [
  {
   "cell_type": "markdown",
   "metadata": {},
   "source": [
    "### Sorting\n"
   ]
  },
  {
   "cell_type": "code",
   "execution_count": 1,
   "metadata": {},
   "outputs": [
    {
     "name": "stdout",
     "output_type": "stream",
     "text": [
      "x is [1, 2, 4, 7, -3]\n",
      "y is a sorted version of x. y = [-3, 1, 2, 4, 7]\n",
      "new x =  [-3, 1, 2, 4, 7]\n"
     ]
    }
   ],
   "source": [
    "# sorting a list\n",
    "x = [1, 2, 4, 7,-3]\n",
    "y = sorted(x)\n",
    "\n",
    "# test\n",
    "print('x is {}'.format(x))\n",
    "print('y is a sorted version of x. y = {}'.format(y))\n",
    "\n",
    "# to sort x in the list and make change permanent\n",
    "x.sort()\n",
    "print('new x = ', x)"
   ]
  },
  {
   "cell_type": "code",
   "execution_count": 5,
   "metadata": {},
   "outputs": [
    {
     "name": "stdout",
     "output_type": "stream",
     "text": [
      "sort by value [76, 8, 4, 2, 0, -1]\n",
      "sort by absolute value [76, 8, 4, 2, -1, 0]\n"
     ]
    }
   ],
   "source": [
    "# to sort list from largest to smallest\n",
    "x = sorted([2, 4, 76, 8, -1, 0], reverse=True)\n",
    "print('sort by value', x)\n",
    "\n",
    "# to sort by absolute value\n",
    "y = sorted([2, 4, 76, 8, -1, 0], key=abs , reverse=True)\n",
    "print('sort by absolute value', y)"
   ]
  },
  {
   "cell_type": "markdown",
   "metadata": {},
   "source": [
    "### List Comprehension"
   ]
  },
  {
   "cell_type": "code",
   "execution_count": 22,
   "metadata": {},
   "outputs": [
    {
     "name": "stdout",
     "output_type": "stream",
     "text": [
      "even numbers [0, 2, 4, 6, 8]\n",
      "squares =  [0, 1, 4, 9, 16, 25, 36, 49, 64, 81]\n",
      "square of even numbers =  [0, 4, 16, 36, 64]\n",
      "square of odd numbers =  [1, 9, 25, 49, 81]\n"
     ]
    }
   ],
   "source": [
    "# selecting part of elements in a list\n",
    "even_number = [i for i in range(10) if i % 2 == 0]\n",
    "print('even numbers {}'.format(even_number))\n",
    "\n",
    "squares = [z*z for z in range(10)] \n",
    "print('squares = ', squares)\n",
    "\n",
    "even_squares = [n*n for n in range(10) if n % 2 == 0]\n",
    "print('square of even numbers = ', even_squares)\n",
    "\n",
    "odd_squares = [a*a for a in range(10) if a % 2 != 0]\n",
    "print('square of odd numbers = ', odd_squares)"
   ]
  },
  {
   "cell_type": "code",
   "execution_count": 44,
   "metadata": {},
   "outputs": [
    {
     "name": "stdout",
     "output_type": "stream",
     "text": [
      "initialize a list with zeros [0, 0, 0, 0, 0, 0, 0, 0, 0, 0]\n",
      "[(0, 0, 1), (0, 0, 2), (0, 0, 3), (0, 0, 4), (0, 1, 1), (0, 1, 2), (0, 1, 3), (0, 1, 4), (1, 0, 1), (1, 0, 2), (1, 0, 3), (1, 0, 4), (1, 1, 1), (1, 1, 2), (1, 1, 3), (1, 1, 4), (2, 0, 1), (2, 0, 2), (2, 0, 3), (2, 0, 4), (2, 1, 1), (2, 1, 2), (2, 1, 3), (2, 1, 4), (3, 0, 1), (3, 0, 2), (3, 0, 3), (3, 0, 4), (3, 1, 1), (3, 1, 2), (3, 1, 3), (3, 1, 4), (4, 0, 1), (4, 0, 2), (4, 0, 3), (4, 0, 4), (4, 1, 1), (4, 1, 2), (4, 1, 3), (4, 1, 4)]\n"
     ]
    }
   ],
   "source": [
    "# initialize a list with zeros\n",
    "my_list = [0 for _ in range(10)]\n",
    "print('initialize a list with zeros', my_list)\n",
    "\n",
    "# list comprehension with multiple for loops\n",
    "pairs = [(x, y, z)\n",
    "         for x in range(5) \n",
    "         for y in range(2)\n",
    "         for z in [1, 2, 3, 4]]\n",
    "         \n",
    "print(pairs)"
   ]
  },
  {
   "cell_type": "markdown",
   "metadata": {},
   "source": [
    "### Iterators and Generators"
   ]
  },
  {
   "cell_type": "code",
   "execution_count": 48,
   "metadata": {},
   "outputs": [
    {
     "name": "stdout",
     "output_type": "stream",
     "text": [
      "You're awesome!\n",
      "You're awesome!\n",
      "You're awesome!\n",
      "You're awesome!\n",
      "You're awesome!\n",
      "You're awesome!\n",
      "You're awesome!\n",
      "You're awesome!\n",
      "You're awesome!\n",
      "You're awesome!\n",
      "Done!\n"
     ]
    }
   ],
   "source": [
    "def lazy_range(n):\n",
    "    '''a lazy version of range'''\n",
    "    i = 0\n",
    "    while i < n:\n",
    "        yield i\n",
    "        i += 1\n",
    "        \n",
    "for i in lazy_range(10):\n",
    "    import time\n",
    "    print(\"You're awesome!\")\n",
    "    time.sleep(5)\n",
    "print(\"Done!\")"
   ]
  },
  {
   "cell_type": "markdown",
   "metadata": {},
   "source": [
    "### Random Number"
   ]
  },
  {
   "cell_type": "code",
   "execution_count": 65,
   "metadata": {},
   "outputs": [
    {
     "name": "stdout",
     "output_type": "stream",
     "text": [
      "random numbers:  [0.28361821790671515, 0.674964847134956, 0.45683115105830563, 0.6858614854745947, 0.6618463200523511]\n",
      "random number with set seed:  0.5714025946899135\n",
      "random number with set seed:  0.5714025946899135\n"
     ]
    }
   ],
   "source": [
    "import random\n",
    "\n",
    "sample_random_numbers = [random.random() for _ in range(5)]\n",
    "print('random numbers: ', sample_random_numbers)\n",
    "\n",
    "# random.seed(n) to produce deterministic results\n",
    "random.seed(10)\n",
    "print('random number with set seed: ', random.random())\n",
    "\n",
    "random.seed(10)\n",
    "print('random number with set seed: ', random.random())\n",
    "\n"
   ]
  },
  {
   "cell_type": "code",
   "execution_count": 86,
   "metadata": {},
   "outputs": [
    {
     "name": "stdout",
     "output_type": "stream",
     "text": [
      "9\n",
      "0\n",
      "[9, 5, 8, 1, 6, 7, 0, 4, 2, 3]\n",
      "pick 1 fruit:  aa'in\n",
      "pick 2 fruits:  ['agbalumo', \"aa'in\"]\n",
      "pick winning numbers (no duplicates):  [58, 51, 55, 37, 1, 25]\n",
      "select 4 numbers (duplicate possible) [3, 5, 9, 3]\n"
     ]
    }
   ],
   "source": [
    "# random with specified range\n",
    "rand_x = random.randrange(10)    # choose randomly from range(10) = [0, 1, 2, 3, 4, 5, 6, 7, 8, 9]\n",
    "r_range = random.randrange(0,3)  # choose randomly from range(0, 3) = [0, 1, 2]  \n",
    "\n",
    "print(rand_x)\n",
    "print(r_range)\n",
    "\n",
    "# random shuffle\n",
    "up_to_ten = list(range(10))\n",
    "random.shuffle(up_to_ten)\n",
    "print(up_to_ten)\n",
    "\n",
    "# randomly pick element from a list\n",
    "pick_one = {0:\"chocolate\", 1: \"agbalumo\", 2:\"orombo\", 3:\"aa'in\"}\n",
    "one = random.choice(pick_one)\n",
    "pick_two = [random.choice(pick_one) for _ in range(2)]\n",
    "print('pick 1 fruit: ', one)\n",
    "print('pick 2 fruits: ', pick_two)\n",
    "\n",
    "# sample without replacement - no duplicate in the random pick\n",
    "lottery_numbers = list(range(60))\n",
    "winning_numbers = random.sample(lottery_numbers, 6)\n",
    "print('pick winning numbers (no duplicates): ', winning_numbers)\n",
    "\n",
    "# sample with replacement\n",
    "with_replacement = [random.choice(range(10)) for _ in range(4)]\n",
    "print('select 4 numbers (duplicate possible)', with_replacement)\n",
    "\n"
   ]
  },
  {
   "cell_type": "code",
   "execution_count": 84,
   "metadata": {},
   "outputs": [
    {
     "name": "stdout",
     "output_type": "stream",
     "text": [
      "FizzBuzz\n",
      "Fizz\n",
      "Buzz\n",
      "Fizz\n",
      "Fizz\n",
      "Buzz\n",
      "Fizz\n",
      "FizzBuzz\n"
     ]
    }
   ],
   "source": [
    "# FizzBuzz\n",
    "for i in range(16):\n",
    "    \n",
    "    if (i % 3 == 0) and (i % 5 == 0):\n",
    "        print('FizzBuzz')\n",
    "    elif (i % 3 == 0):\n",
    "        print('Fizz')\n",
    "    elif (i % 5 == 0):\n",
    "        print('Buzz')        \n",
    "    else:\n",
    "        pass"
   ]
  },
  {
   "cell_type": "markdown",
   "metadata": {},
   "source": [
    "### map, reduce and filter"
   ]
  },
  {
   "cell_type": "code",
   "execution_count": 122,
   "metadata": {},
   "outputs": [
    {
     "name": "stdout",
     "output_type": "stream",
     "text": [
      "8\n",
      "output:  <map object at 0x7f803835e208>\n",
      "[2, 4]\n",
      "<filter object at 0x7f803835e668>\n"
     ]
    }
   ],
   "source": [
    "def mul(x_in, y_in):\n",
    "    return x_in * y_in\n",
    "\n",
    "def is_even(num):\n",
    "    return num % 2 == 0\n",
    "\n",
    "result = mul(2, 4)\n",
    "print(result)\n",
    "\n",
    "output = map(mul, [2, 3], [7, 4], [1, 6])         # [2*7*1, 3*4*6]\n",
    "print('output: ', output)\n",
    "    \n",
    "xs = [1, 2, 3, 4]    \n",
    "x_evens1 = [x for x in xs if x % 2 == 0]\n",
    "x_evens2 = filter(is_even, xs)\n",
    "print(x_evens1)\n",
    "print(x_evens2)\n",
    "\n",
    "reduce()"
   ]
  },
  {
   "cell_type": "code",
   "execution_count": null,
   "metadata": {},
   "outputs": [],
   "source": []
  },
  {
   "cell_type": "code",
   "execution_count": null,
   "metadata": {
    "collapsed": true
   },
   "outputs": [],
   "source": []
  }
 ],
 "metadata": {
  "kernelspec": {
   "display_name": "Python [conda root]",
   "language": "python",
   "name": "conda-root-py"
  },
  "language_info": {
   "codemirror_mode": {
    "name": "ipython",
    "version": 3
   },
   "file_extension": ".py",
   "mimetype": "text/x-python",
   "name": "python",
   "nbconvert_exporter": "python",
   "pygments_lexer": "ipython3",
   "version": "3.5.3"
  }
 },
 "nbformat": 4,
 "nbformat_minor": 2
}
