{
 "cells": [
  {
   "cell_type": "markdown",
   "metadata": {},
   "source": [
    "## Hypothesis and Inference"
   ]
  },
  {
   "cell_type": "code",
   "execution_count": 41,
   "metadata": {
    "collapsed": true
   },
   "outputs": [],
   "source": [
    "import math\n",
    "import random"
   ]
  },
  {
   "cell_type": "code",
   "execution_count": 42,
   "metadata": {},
   "outputs": [
    {
     "name": "stdout",
     "output_type": "stream",
     "text": [
      "B(150, 0.9) = N(135.0, 3.674234614174767)\n",
      "B(1000, 0.5) = N(500.0, 15.811388300841896)\n",
      "p=0.95, low=469.01026640487555, high=530.9897335951244\n",
      "p=0.55, mu=550.0, sigma=15.732132722552274\n",
      "p =  0.8865480012953671\n",
      "p =  0.9363794803307173\n"
     ]
    }
   ],
   "source": [
    "def normal_approximation_to_binormal(n, p):\n",
    "    '''finds mu and sigmal corresponding to a Binomial(n, p)'''\n",
    "    mu = p * n\n",
    "    sigma = math.sqrt(p * (1-p) * n)\n",
    "    return mu, sigma\n",
    "\n",
    "def inverse_normal_cdf(p, mu=0, sigma=1, tolerance=0.00001):\n",
    "    '''find approximate inverse using binary search'''\n",
    "    # if not standard, compute standard and rescale\n",
    "    if mu != 0 or sigma != 1:\n",
    "        return mu + sigma * inverse_normal_cdf(p, tolerance=tolerance)    \n",
    "    low_z = -10.0\n",
    "    hi_z  = 10.0\n",
    "    while hi_z - low_z > tolerance:\n",
    "        mid_z = (low_z + hi_z) / 2\n",
    "        mid_p = normal_cdf(mid_z)        \n",
    "        if mid_p < p:\n",
    "            # midpoint is still too low, search above it\n",
    "            low_z = mid_z\n",
    "        elif mid_p > p:\n",
    "            # midpoint is still too high, search below it\n",
    "            hi_z = mid_z\n",
    "        else:\n",
    "            break\n",
    "            \n",
    "    return mid_z       \n",
    "\n",
    "def normal_cdf(x,mu=0, sigma=1):\n",
    "    return (1 + math.erf((x-mu)/math.sqrt(2)/sigma))/2\n",
    "\n",
    "# the normal cdf is the probability the variable is below threshold\n",
    "normal_probability_below = normal_cdf\n",
    "\n",
    "def normal_probability_above(lo, mu=0, sigma=1):\n",
    "    return 1 - normal_cdf(lo, mu, sigma)\n",
    "\n",
    "def normal_probability_between(lo, hi, mu=0, sigma=1):\n",
    "    return normal_cdf(hi, mu, sigma) - normal_cdf(lo, mu, sigma)\n",
    "\n",
    "def normal_probability_outside(lo, hi, mu=0, sigma=1):\n",
    "    return 1 - normal_probability_between(lo, hi, mu, sigma)\n",
    "\n",
    "def normal_upper_bound(probability, mu=0, sigma=1):\n",
    "    '''returns the z for which P(Z >= z) = probability'''\n",
    "    return inverse_normal_cdf(probability, mu, sigma)\n",
    "\n",
    "def normal_lower_bound(probability, mu=0, sigma=1):\n",
    "    '''returns the z for which P(Z >= z) = probability'''\n",
    "    return inverse_normal_cdf(1 - probability, mu, sigma)\n",
    "\n",
    "def normal_two_sided_bounds(probability, mu=0, sigma=1):\n",
    "    '''returns the symmetric (about the mean) bounds that\n",
    "    contain the specified probability'''\n",
    "    tail_probability = (1 - probability) / 2\n",
    "    \n",
    "    # upper bound should have tail_probability above it\n",
    "    upper_bound = normal_lower_bound(tail_probability, mu, sigma)\n",
    "\n",
    "    # lower bound should have tail_probability below it\n",
    "    lower_bound = normal_upper_bound(tail_probability, mu, sigma)\n",
    "    \n",
    "    return lower_bound, upper_bound\n",
    "    \n",
    "\n",
    "    \n",
    "\n",
    "if __name__ == \"__main__\":\n",
    "    \n",
    "    # normal approximation to binomial test\n",
    "    mean, std_dev = normal_approximation_to_binormal(150, 0.9)\n",
    "    print('B({}, {}) = N({}, {})'.format(150, 0.9, mean, std_dev))\n",
    "    \n",
    "    #\n",
    "    mu_0, sigma_0 = normal_approximation_to_binormal(1000, 0.5)\n",
    "    print('B({}, {}) = N({}, {})'.format(1000, 0.5, mu_0, sigma_0))\n",
    "    \n",
    "    # 95% bounds based on assumption p is 0.5\n",
    "    lo, hi = normal_two_sided_bounds(0.95, mu_0, sigma_0)\n",
    "    print('p={}, low={}, high={}'.format(0.95, lo, hi))\n",
    "    \n",
    "    # actual mu and sigma based on p = 0.55\n",
    "    mu_1, sigma_1 = normal_approximation_to_binormal(1000, 0.55)\n",
    "    print('p={}, mu={}, sigma={}'.format(0.55, mu_1, sigma_1))\n",
    "    \n",
    "    # type 2 error means that we fail to rejec the null hypothesis\n",
    "    # which will happen when X is still in our original interval\n",
    "    type_2_probability = normal_probability_between(lo, hi, mu_1, sigma_1)\n",
    "    power = 1 - type_2_probability\n",
    "    print('p = ', power)\n",
    "    \n",
    "    hi = normal_upper_bound(0.95, mu_0, sigma_0)\n",
    "    type_2_probability = normal_probability_below(hi, mu_1, sigma_1)\n",
    "    power_01 = 1 - type_2_probability\n",
    "    print('p = ', power_01)\n",
    "    \n",
    "    "
   ]
  },
  {
   "cell_type": "markdown",
   "metadata": {},
   "source": [
    "### P-values"
   ]
  },
  {
   "cell_type": "code",
   "execution_count": 43,
   "metadata": {},
   "outputs": [
    {
     "name": "stdout",
     "output_type": "stream",
     "text": [
      "p-value =  0.06207721579598857\n",
      "p-value (alt) 0.06155\n",
      "p-value (p1) =  0.046345287837786575\n",
      "p-value (p2) =  0.06062885772582083\n",
      "p-value (p3) =  0.04686839508859242\n"
     ]
    }
   ],
   "source": [
    "def two_sided_p_value(x, mu=0, sigma=1):\n",
    "    if x >= mu:\n",
    "        # if x is greater than the mean, the tail is what's greater than x\n",
    "        return 2 * normal_probability_above(x, mu, sigma)\n",
    "    else:\n",
    "        # if x is less than the mean, the tail is what's less than x\n",
    "        return 2 * normal_probability_below(x, mu, sigma)\n",
    "\n",
    "def run_experiment():\n",
    "    '''flip a fair coin 1000 times, True = heads, False = tails'''\n",
    "    return [random.random() < 0.5 for _ in range(1000)]\n",
    "\n",
    "def reject_fairness(experiment):\n",
    "    '''using the 5% significance levels'''\n",
    "    num_heads = len([flip for flip in experiment if flip])\n",
    "    return num_heads < 469 or num_heads > 531\n",
    "#--------------------------------------------------------------------\n",
    "def estimated_parameters(N, n):\n",
    "    p = n/N\n",
    "    sigma = math.sqrt(p * (1-p)/N)\n",
    "    return p, sigma\n",
    "\n",
    "def a_b_test_statistics(N_A, n_A, N_B, n_B):\n",
    "    p_A, sigma_A = estimated_parameters(N_A, n_A)\n",
    "    p_B, sigma_B = estimated_parameters(N_B, n_B)\n",
    "    return (p_B - p_A)/ math.sqrt(sigma_A **2 + sigma_B **2)\n",
    "\n",
    "def B(alpha, beta):\n",
    "    '''a normalizing constant so that the total probability is 1'''\n",
    "    return math.gamma(alpha) * math.gamma(beta) / math.gamma(alpha + beta)\n",
    "\n",
    "def beta_pdf(x, alpha, beta):\n",
    "    if x <= 0 or x >= 1:              # no weight outside of [0, 1]\n",
    "        return 0\n",
    "    return x ** (alpha - 1) * (1 - x) ** (beta - 1) / B(alpha, beta)\n",
    "#---------------------------------------------------------------------------        \n",
    "    \n",
    "if __name__ == \"__main__\":\n",
    "    \n",
    "    p = two_sided_p_value(529.5, mu_0, sigma_0)\n",
    "    print('p-value = ', p)\n",
    "    \n",
    "    # alternatively\n",
    "    extreme_value_count = 0\n",
    "    for _ in range(100000):\n",
    "        num_heads = sum(1 if random.random() < 0.5 else 0\n",
    "                       for _ in range(1000))\n",
    "        if num_heads >= 530 or num_heads <= 470:\n",
    "            extreme_value_count += 1\n",
    "    \n",
    "    print('p-value (alt)', extreme_value_count/100000)  \n",
    "    \n",
    "    p1 = two_sided_p_value(531.5, mu_0, sigma_0)\n",
    "    print('p-value (p1) = ', p1)\n",
    "    \n",
    "    upper_p_value = normal_probability_above\n",
    "    lower_p_value = normal_probability_below\n",
    "    \n",
    "    p2 = upper_p_value(524.5, mu_0, sigma_0)\n",
    "    print('p-value (p2) = ', p2)\n",
    "    p3 = upper_p_value(526.5, mu_0, sigma_0)\n",
    "    print('p-value (p3) = ', p3)"
   ]
  },
  {
   "cell_type": "code",
   "execution_count": 44,
   "metadata": {},
   "outputs": [
    {
     "name": "stdout",
     "output_type": "stream",
     "text": [
      "number of rejections =  46\n"
     ]
    }
   ],
   "source": [
    "    random.seed(0)\n",
    "    experiments = [run_experiment() for _ in range(1000)]\n",
    "    num_rejection = len([experiment \n",
    "                         for experiment in experiments \n",
    "                         if reject_fairness(experiment)])\n",
    "    \n",
    "    print('number of rejections = ', num_rejection)"
   ]
  },
  {
   "cell_type": "code",
   "execution_count": null,
   "metadata": {
    "collapsed": true
   },
   "outputs": [],
   "source": []
  }
 ],
 "metadata": {
  "kernelspec": {
   "display_name": "Python [conda root]",
   "language": "python",
   "name": "conda-root-py"
  },
  "language_info": {
   "codemirror_mode": {
    "name": "ipython",
    "version": 3
   },
   "file_extension": ".py",
   "mimetype": "text/x-python",
   "name": "python",
   "nbconvert_exporter": "python",
   "pygments_lexer": "ipython3",
   "version": "3.5.3"
  }
 },
 "nbformat": 4,
 "nbformat_minor": 2
}
