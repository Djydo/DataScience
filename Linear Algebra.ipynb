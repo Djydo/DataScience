{
 "cells": [
  {
   "cell_type": "markdown",
   "metadata": {},
   "source": [
    "### Linear Algebra"
   ]
  },
  {
   "cell_type": "code",
   "execution_count": 88,
   "metadata": {
    "collapsed": true
   },
   "outputs": [],
   "source": [
    "import math"
   ]
  },
  {
   "cell_type": "code",
   "execution_count": 95,
   "metadata": {},
   "outputs": [
    {
     "name": "stdout",
     "output_type": "stream",
     "text": [
      "a = [12, 1, 5]\n",
      "b = [3, 4, 70]\n",
      "vector addition (a + b):  [15, 5, 75]\n",
      "vector subtraction (a - b):  [9, -3, -65]\n",
      "vector sum:  [17, 8, 79]\n",
      "scalar multiplication:  [24, 2, 10]\n",
      "vector mean:  [5.666666666666666, 2.6666666666666665, 26.333333333333332]\n",
      "dot product of a and b:  390\n",
      "sum of squares of a:  170\n",
      "magnitude of b:  70.178344238091\n",
      "squared distance of a and b:  4315\n",
      "distance between a and b version1:  65.68865959965997\n",
      "distance between a and b version1:  65.68865959965997\n"
     ]
    }
   ],
   "source": [
    "height_weight_age = [70,   # inches,\n",
    "                     170,  # pounds,\n",
    "                     40]   # years\n",
    "grades = [95,  # exam1\n",
    "          80,  # exam2\n",
    "          75,  # exam3\n",
    "          62]  # exam4\n",
    "\n",
    "def vector_add(v, w):\n",
    "    '''adds corresponding elements'''\n",
    "    result = [v_i + w_i for v_i, w_i in zip(v, w)]     # [1, 2] and [2, 1] results [1+2, 2+1]\n",
    "    return result\n",
    "\n",
    "def vector_subtract(v, w):\n",
    "    '''subtracts corresponding elements'''\n",
    "    result = [v_i - w_i for v_i, w_i in zip(v, w)]    # [1, 2] and [2, 1] results [1-2, 2-1]\n",
    "    return result\n",
    "\n",
    "def vector_sum(vectors):\n",
    "    '''sum all corresponding elements'''\n",
    "    result = vectors[0]\n",
    "    for vector in vectors[1:]:\n",
    "        result = vector_add(result, vector)\n",
    "    return result\n",
    "\n",
    "# def vector_sum1(vectors):\n",
    "#    return reduce(vector_add, vectors)\n",
    "\n",
    "def scalar_multiply(c, v):\n",
    "    '''c is a number, v is a vector'''\n",
    "    result = [c * v_i for v_i in v]   \n",
    "    return result\n",
    "\n",
    "def vector_mean(vectors):\n",
    "    '''compute the vector whose ith element is the mean of the\n",
    "     ith elements of the input vectors'''\n",
    "    n = len(vectors)\n",
    "    return scalar_multiply(1/n, vector_sum(vectors))\n",
    "\n",
    "def dot(v, w):\n",
    "    '''v_1 * w_1 + ... + v_n * w_n'''\n",
    "    return sum(v_i * w_i for v_i, w_i in zip(v, w))\n",
    "\n",
    "def sum_of_squares(v):\n",
    "    '''v_1 * v_1 + ... + v_n * v_n'''\n",
    "    return dot(v, v)\n",
    "    \n",
    "def magnitude(v):\n",
    "    return math.sqrt(sum_of_squares(v))\n",
    "\n",
    "def square_distance(v, w):\n",
    "    '''(v_1 - w1)^2 + ... + (v_n - w_n)^2'''\n",
    "    return sum_of_squares(vector_subtract(v, w))\n",
    "\n",
    "def distance_v1(v, w):\n",
    "    return math.sqrt(square_distance(v, w))\n",
    "\n",
    "def distance_v2(v, w):\n",
    "    return magnitude(vector_subtract(v, w))\n",
    "\n",
    "\n",
    "if __name__ == \"__main__\":\n",
    "    \n",
    "    a = [12, 1, 5]\n",
    "    b = [3, 4, 70]\n",
    "    print(\"a = {}\\nb = {}\".format(a, b))\n",
    "    \n",
    "    output_add = vector_add(a, b)\n",
    "    print('vector addition (a + b): ', output_add)\n",
    "    \n",
    "    output_subtract = vector_subtract(a, b)\n",
    "    print('vector subtraction (a - b): ', output_subtract)\n",
    "    \n",
    "    my_combined_lists = [a, b, [2, 3, 4]]\n",
    "    output_sum = vector_sum(my_combined_lists)\n",
    "    print('vector sum: ', output_sum)\n",
    "    \n",
    "    scalar_mul = scalar_multiply(2, a)\n",
    "    print('scalar multiplication: ', scalar_mul)\n",
    "    \n",
    "    vec_mean = vector_mean(my_combined_lists)\n",
    "    print('vector mean: ', vec_mean)\n",
    "    \n",
    "    dot_product_test = dot(a, b)\n",
    "    print('dot product of a and b: ', dot_product_test)\n",
    "    \n",
    "    sum_of_square_test = sum_of_squares(a)\n",
    "    print('sum of squares of a: ', sum_of_square_test)\n",
    "    \n",
    "    magnitude_test = magnitude(b)\n",
    "    print('magnitude of b: ', magnitude_test)\n",
    "    \n",
    "    squared_distance_test = square_distance(a, b)\n",
    "    print('squared distance of a and b: ', squared_distance_test)\n",
    "    \n",
    "    distance_v1_test = distance_v1(a, b)\n",
    "    print('distance between a and b version1: ', distance_v1_test)\n",
    "    \n",
    "    distance_v2_test = distance_v2(a, b)\n",
    "    print('distance between a and b version1: ', distance_v2_test)\n",
    "    "
   ]
  },
  {
   "cell_type": "markdown",
   "metadata": {},
   "source": [
    "### Matrices"
   ]
  },
  {
   "cell_type": "code",
   "execution_count": 110,
   "metadata": {},
   "outputs": [
    {
     "name": "stdout",
     "output_type": "stream",
     "text": [
      "shape of matrix A: (2, 3), 2 rows and 3 columns\n",
      "shape of matrix B: (3, 2), 3 rows and 2 columns\n",
      "The row 2 of matrix A is  [4, 5, 6]\n",
      "The column 1 of matrix B is  [1, 3, 5]\n",
      "identity matrix:  [[1, 0, 0, 0, 0], [0, 1, 0, 0, 0], [0, 0, 1, 0, 0], [0, 0, 0, 1, 0], [0, 0, 0, 0, 1]]\n"
     ]
    }
   ],
   "source": [
    "\n",
    "# TODO: why not assert that num of col > 0 before performing operations\n",
    "#        instead of testing by num_cols\n",
    "def shape(A):\n",
    "    num_rows = len(A)\n",
    "    num_cols = len(A[0]) if A else 0\n",
    "    \n",
    "    return num_rows, num_cols\n",
    "\n",
    "def get_row(A, i):\n",
    "    return A[i]\n",
    "\n",
    "def get_column(A, j):\n",
    "    return [A_i[j] for A_i in A]\n",
    "\n",
    "def make_matrix(num_rows, num_cols, entry_fn):\n",
    "    '''returns a num_rows x num_cols matrix\n",
    "       whose (i, j)th entry is entry_fn(i, j)'''\n",
    "    \n",
    "    return [[entry_fn(i, j) \n",
    "             for j in range(num_cols)]\n",
    "           for i in range(num_rows)]\n",
    "\n",
    "def is_diagonal(i, j):\n",
    "    \"1's on the 'diagonal', 0's everywhere else\"\n",
    "    return 1 if i == j else 0\n",
    "    \n",
    "    \n",
    "if __name__ == \"__main__\":\n",
    "    \n",
    "    A = [[1, 2, 3],\n",
    "         [4, 5, 6]]\n",
    "\n",
    "    B = [[1, 2],\n",
    "         [3, 4],\n",
    "         [5, 6]]\n",
    "     \n",
    "    shape_test = shape(A)\n",
    "    row, col = shape_test\n",
    "    print('shape of matrix A: {}, {} rows and {} columns'.format(shape_test, row, col))\n",
    "    \n",
    "    shape_test2 = shape(B)\n",
    "    row2, col2 = shape_test2\n",
    "    print('shape of matrix B: {}, {} rows and {} columns'.format(shape_test2, row2, col2))\n",
    "    \n",
    "    get_row_test = get_row(A, 1)\n",
    "    print('The row 2 of matrix A is ', get_row_test)\n",
    "    \n",
    "    get_row_test2 = get_column(B, 0)\n",
    "    print('The column 1 of matrix B is ', get_row_test2)\n",
    "    \n",
    "    identity_matrix_test = make_matrix(5, 5, is_diagonal)\n",
    "    print('identity matrix: ', identity_matrix_test)\n",
    "    "
   ]
  },
  {
   "cell_type": "code",
   "execution_count": 4,
   "metadata": {},
   "outputs": [
    {
     "data": {
      "text/plain": [
       "int"
      ]
     },
     "execution_count": 4,
     "metadata": {},
     "output_type": "execute_result"
    }
   ],
   "source": [
    "\n"
   ]
  },
  {
   "cell_type": "code",
   "execution_count": null,
   "metadata": {
    "collapsed": true
   },
   "outputs": [],
   "source": []
  }
 ],
 "metadata": {
  "kernelspec": {
   "display_name": "Python [conda root]",
   "language": "python",
   "name": "conda-root-py"
  },
  "language_info": {
   "codemirror_mode": {
    "name": "ipython",
    "version": 3
   },
   "file_extension": ".py",
   "mimetype": "text/x-python",
   "name": "python",
   "nbconvert_exporter": "python",
   "pygments_lexer": "ipython3",
   "version": "3.5.3"
  }
 },
 "nbformat": 4,
 "nbformat_minor": 2
}
