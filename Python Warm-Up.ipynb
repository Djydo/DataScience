{
 "cells": [
  {
   "cell_type": "markdown",
   "metadata": {},
   "source": [
    "## Libraries"
   ]
  },
  {
   "cell_type": "code",
   "execution_count": 1,
   "metadata": {
    "collapsed": true
   },
   "outputs": [],
   "source": [
    "#from __future__ import division         # needed for Python2.7 division\n",
    "import time\n",
    "from collections import defaultdict\n",
    "from collections import Counter"
   ]
  },
  {
   "cell_type": "markdown",
   "metadata": {},
   "source": [
    "## Integer Division"
   ]
  },
  {
   "cell_type": "code",
   "execution_count": 2,
   "metadata": {},
   "outputs": [
    {
     "name": "stdout",
     "output_type": "stream",
     "text": [
      "x = 5//2 \n",
      "y = 5/2\n",
      "\n",
      "x = 2, y = 2.5 \n"
     ]
    }
   ],
   "source": [
    "\n",
    "x = 5//2    # integer division\n",
    "y = 5/2     # division\n",
    "\n",
    "print('x = 5//2 \\ny = 5/2\\n')\n",
    "print('x = {}, y = {} '.format(x, y))"
   ]
  },
  {
   "cell_type": "markdown",
   "metadata": {},
   "source": [
    "## Functions"
   ]
  },
  {
   "cell_type": "code",
   "execution_count": 3,
   "metadata": {
    "collapsed": true
   },
   "outputs": [],
   "source": [
    "'''This function return a double of the parameter supplied'''\n",
    "def double(x):\n",
    "    return x*2\n",
    "\n",
    "'''Get one of function given: e.g. g(1)'''\n",
    "def one_of_function(g):\n",
    "    return g(1)\n"
   ]
  },
  {
   "cell_type": "code",
   "execution_count": 4,
   "metadata": {},
   "outputs": [
    {
     "name": "stdout",
     "output_type": "stream",
     "text": [
      "g(x) = 2x\n",
      "g(1) = 2\n"
     ]
    }
   ],
   "source": [
    "# '''1: Testing of functions'''\n",
    "\n",
    "my_double = double\n",
    "result  = one_of_function(my_double)\n",
    "print('g(x) = 2x')\n",
    "print('g(1) = {}'.format(result))"
   ]
  },
  {
   "cell_type": "code",
   "execution_count": 5,
   "metadata": {},
   "outputs": [
    {
     "name": "stdout",
     "output_type": "stream",
     "text": [
      "y = 2\n"
     ]
    }
   ],
   "source": [
    "# 2: Testing of functions - using lambda\n",
    "\n",
    "y = one_of_function(lambda x: x*2)\n",
    "print ('y = {}'.format(y))"
   ]
  },
  {
   "cell_type": "markdown",
   "metadata": {},
   "source": [
    "## Strings\n"
   ]
  },
  {
   "cell_type": "code",
   "execution_count": 6,
   "metadata": {},
   "outputs": [
    {
     "name": "stdout",
     "output_type": "stream",
     "text": [
      "single quote = this is python programming\n",
      "double quote = this is python programming\n",
      "\t\n",
      "\\t\n",
      "This is first line\n",
      "and this is the second time\n",
      "and this is the third\n"
     ]
    }
   ],
   "source": [
    "single_quote = 'this is python programming'\n",
    "double_quote = \"this is python programming\"\n",
    "\n",
    "print('single quote = {}\\ndouble quote = {}'.format(single_quote, double_quote))\n",
    "\n",
    "escape_xter = \"\\t\"        # represents tab character\n",
    "not_escape_xter = r\"\\t\"   # this is not an escape sequence\n",
    "\n",
    "print(escape_xter)        # nothing to display (tab the cursor once)\n",
    "print(not_escape_xter)    # display the whole string\n",
    "\n",
    "multi_line = \"\"\"This is first line\n",
    "and this is the second time\n",
    "and this is the third\"\"\"\n",
    "\n",
    "print(multi_line)         # print what is stored in multi_line "
   ]
  },
  {
   "cell_type": "markdown",
   "metadata": {},
   "source": [
    "## Exceptions\n",
    "   "
   ]
  },
  {
   "cell_type": "code",
   "execution_count": 7,
   "metadata": {},
   "outputs": [
    {
     "name": "stdout",
     "output_type": "stream",
     "text": [
      "cannot divide by zero\n"
     ]
    }
   ],
   "source": [
    "# python raises exception when there is error\n",
    "\n",
    "try:\n",
    "    x = 5\n",
    "    y = x/0   # this is intentional (raise exception)\n",
    "    \n",
    "except ZeroDivisionError:\n",
    "        print(\"cannot divide by zero\")"
   ]
  },
  {
   "cell_type": "markdown",
   "metadata": {},
   "source": [
    "## Data Structures"
   ]
  },
  {
   "cell_type": "markdown",
   "metadata": {},
   "source": [
    "### Lists"
   ]
  },
  {
   "cell_type": "code",
   "execution_count": 8,
   "metadata": {},
   "outputs": [
    {
     "name": "stdout",
     "output_type": "stream",
     "text": [
      "list of lists:  [[1, -4, 3, 7], [20, 'apples', 0.5, True], []] \n",
      "\n",
      "interger_list = [1, -4, 3, 7]\n",
      "length of interger_list = 4\n",
      "sum of interger_list = 7\n"
     ]
    }
   ],
   "source": [
    "# Lists\n",
    "\n",
    "interger_list = [1, -4, 3, 7]                          # contains uniform data\n",
    "mixed_elements = [20, \"apples\", 0.5, True]             # contains mixed data\n",
    "list_of_list = [interger_list, mixed_elements, []]     # contain 3 lists - two with elements, one empty\n",
    "\n",
    "# test\n",
    "print('list of lists: ',list_of_list, '\\n')\n",
    "\n",
    "list_length = len(interger_list)                       # gets the number of elements\n",
    "sum_of_list = sum(interger_list)                       # add the elements\n",
    "\n",
    "# test\n",
    "print('interger_list = [1, -4, 3, 7]')\n",
    "print('length of interger_list = {}'.format(list_length))\n",
    "print('sum of interger_list = {}'.format(sum_of_list))"
   ]
  },
  {
   "cell_type": "code",
   "execution_count": 9,
   "metadata": {},
   "outputs": [
    {
     "name": "stdout",
     "output_type": "stream",
     "text": [
      "x = range(0, 10)\n",
      "x = [-1, 1, 2, 3, 4, 5, 6, 7, 8, 9]\n"
     ]
    }
   ],
   "source": [
    "# get and set elements of a list\n",
    "\n",
    "x = range(10)                   # in python 2.7: creates a list but in python 3: returns iterables\n",
    "print('x = {}'.format(x))\n",
    "\n",
    "zero = x[0]                     # equals 0 - first from start\n",
    "one = x[1]                      # equals 1 - second from start \n",
    "nine = x[-1]                    # equals 9 - last from behind\n",
    "eight = x[-2]                   # equals 8 - second from behind\n",
    "\n",
    "x = list(range(10))             # use of range as assignment in python 3\n",
    "x[0] = -1                       # replaces first element from 0 to -1\n",
    "\n",
    "print('x = {}'.format(x))"
   ]
  },
  {
   "cell_type": "code",
   "execution_count": 10,
   "metadata": {},
   "outputs": [
    {
     "name": "stdout",
     "output_type": "stream",
     "text": [
      "a copy of x = [-1, 1, 2, 3, 4, 5, 6, 7, 8, 9]\n",
      "reverse of x = [9, 8, 7, 6, 5, 4, 3, 2, 1, -1]\n",
      "\n",
      "T = 1 in [1,2,3] = True \n",
      "F = 0 in [1,2,3] = False \n",
      "T = -1 in x = True \n"
     ]
    }
   ],
   "source": [
    "# slicing of a list\n",
    "\n",
    "first_three = x[:3]                    # from the start up to 3 but excluding 3\n",
    "three_to_end = x[3:]                   # from index 3 to the end\n",
    "last_three = x[-3:]                    # from last 3 to the end\n",
    "last_element = x[-1]\n",
    "\n",
    "upto_excluding = x[2:6]                # from index 2 up to 6 but not including (excluding) 6\n",
    "without_first_and_last = x[1:-1]\n",
    "\n",
    "copy_of_x = x[:]                       # copy of x\n",
    "reverse_of_x = x[::-1]                 # reverse of x\n",
    "\n",
    "# test\n",
    "print('a copy of x = {}'.format(copy_of_x))\n",
    "print('reverse of x = {}\\n'.format(reverse_of_x))\n",
    "\n",
    "T = 1 in [1,2,3]                        # True\n",
    "F = 0 in [1,2,3]                        # False\n",
    "\n",
    "# test\n",
    "print ('T = 1 in [1,2,3] = {} '.format(1 in [1,2,3]) )\n",
    "print ('F = 0 in [1,2,3] = {} '.format(F) )\n",
    "print ('T = -1 in x = {} '.format(-1 in x)) \n"
   ]
  },
  {
   "cell_type": "code",
   "execution_count": 11,
   "metadata": {},
   "outputs": [
    {
     "name": "stdout",
     "output_type": "stream",
     "text": [
      "y = [1, 5, 22, 2, 4, 50]\n",
      "new y = [1, 2, 45, 4, 10, 34]\n",
      "y0 = [4, 30, 5, 14, 200]\n"
     ]
    }
   ],
   "source": [
    "# Extend and Append\n",
    "\n",
    "y = [1, 5, 22]\n",
    "y.extend([2, 4, 50])                # extend the list\n",
    "\n",
    "#test\n",
    "print('y = {}'.format(y))\n",
    "\n",
    "new_x = [1, 2, 45]\n",
    "new_y = new_x + [4, 10, 34]\n",
    "print('new y = {}'.format(new_y))\n",
    "\n",
    "y0 = [4, 30, 5, 14]\n",
    "y0.append(200)                     # append a new element to the list\n",
    "print('y0 = {}'.format(y0))\n",
    "\n",
    "a, b = [1, 2]                      # a = 1, b = 2\n",
    "_, b = [1, 2]                      # ignore the first element and assign 2 to b\n"
   ]
  },
  {
   "cell_type": "markdown",
   "metadata": {},
   "source": [
    "### Tuples"
   ]
  },
  {
   "cell_type": "code",
   "execution_count": 12,
   "metadata": {},
   "outputs": [
    {
     "name": "stdout",
     "output_type": "stream",
     "text": [
      "(3, 5, 6)\n",
      "'tuple' object does not support item assignment\n",
      "sum = 10\n",
      "product = 25\n",
      "\n",
      "l = 1, m = 2\n",
      "swap l and m: l = 2, m = 1\n"
     ]
    }
   ],
   "source": [
    "my_list = [1, 2, 3, 4]\n",
    "my_tuple = (1, 2, 3, 4)\n",
    "\n",
    "other_tuple = 3, 5, 6\n",
    "print(other_tuple)\n",
    "\n",
    "# tuple is immutable\n",
    "try:\n",
    "    my_tuple[0] = 5\n",
    "except TypeError as error:\n",
    "    print(error)      # cannot modify a tuple\n",
    "    \n",
    "    \n",
    "    \n",
    "\"\"\"Use of Tuple: \n",
    "Sum and product of two numbers (parameters)\"\"\"\n",
    "def sum_and_product(x, y):\n",
    "    return (x + y), (x * y)\n",
    "\n",
    "# test\n",
    "sum_result, product_result = sum_and_product(5, 5)\n",
    "print('sum = {}\\nproduct = {}\\n'.format(sum_result, product_result))\n",
    "\n",
    "\n",
    "'''Tuple for multiple assignment'''\n",
    "l, m = 1, 2\n",
    "print('l = {}, m = {}'.format(l, m))\n",
    "m, l = l, m         # swap l and m\n",
    "print('swap l and m: l = {}, m = {}'.format(l, m))\n",
    "    "
   ]
  },
  {
   "cell_type": "markdown",
   "metadata": {},
   "source": [
    "## Dictionaries"
   ]
  },
  {
   "cell_type": "code",
   "execution_count": 13,
   "metadata": {},
   "outputs": [
    {
     "name": "stdout",
     "output_type": "stream",
     "text": [
      "Joel's grade is 80\n",
      "\n",
      "no grades for Kate\n",
      "\n",
      "Joel has grades: True\n",
      "Kate has grades: False\n",
      "\n",
      "get Joel's grade or default: 80\n",
      "get Kate's grade or default: 0\n",
      "\n",
      "{'Dave': 99, 'Joel': 80, 'Kate': 100, 'Tim': 95}\n",
      "number of students:  4 \n",
      "\n",
      "'name' in student_keys duration 8.249282836914062e-05\n",
      "'name' in student duration 8.320808410644531e-05\n"
     ]
    }
   ],
   "source": [
    "# dictionary {keys: values}\n",
    "\n",
    "empty_dict = {}                                # Pythonic\n",
    "empty_dict2 = dict()                           # less Pythonic\n",
    "\n",
    "grades = {\"Joel\": 80, \"Tim\": 95}\n",
    "joels_grade = grades[\"Joel\"]\n",
    "print('Joel\\'s grade is {}\\n'. format(joels_grade))\n",
    "\n",
    "\n",
    "try:\n",
    "    kates_grade = grades[\"Kate\"]\n",
    "except KeyError:\n",
    "    print('no grades for Kate\\n')\n",
    "    \n",
    "    \n",
    "# Boolean\n",
    "joel_has_grade = 'Joel' in grades\n",
    "kate_has_grade = 'Kate' in grades\n",
    "\n",
    "print('Joel has grades: {}'.format(joel_has_grade))\n",
    "print('Kate has grades: {}\\n'.format(kate_has_grade))\n",
    "\n",
    "\n",
    "# Get method or return default: prevents exceptions\n",
    "try:\n",
    "    joels_grade = grades.get('Joel', 0)      # gets Joel's grade or return default\n",
    "    kates_grade = grades.get('Kate', 0)      # gets Kate's grade or return default\n",
    "except Exception as err:\n",
    "    print(err)\n",
    "    \n",
    "print('get Joel\\'s grade or default:', joels_grade)\n",
    "print('get Kate\\'s grade or default: {}\\n'.format(kates_grade))\n",
    "\n",
    "\n",
    "# Adding key-value pairs to dictionary\n",
    "grades['Dave'] = 99\n",
    "grades['Kate'] = 100\n",
    "number_of_students = len(grades)              # retrieves length of a dictionary\n",
    "\n",
    "print(grades)\n",
    "print('number of students: ', number_of_students,'\\n')\n",
    "\n",
    "\n",
    "# using dictionary to store structured data\n",
    "student  = {\n",
    "            'name': 'Greg',\n",
    "            'department': 'Computer Science',\n",
    "            'age': 25,\n",
    "            'courses': ['cse5344', 'cse6301', 'cse5301']\n",
    "}\n",
    "\n",
    "#key, values and items\n",
    "student_keys = student.keys()          # list of keys\n",
    "student_values = student.values()      # list of values\n",
    "student_items = student.items()        # list of (key, value) tuples\n",
    "\n",
    "st = time.time()                       # start time\n",
    "'name' in student_keys                 # True, but slow because it uses list\n",
    "end = time.time()                      # end time\n",
    "print(\"'name' in student_keys duration {}\".format(end - st))\n",
    "\n",
    "st2 = time.time()                      # start time\n",
    "'name' in student                      # True, faster and Pythonic - uses dict\n",
    "end2 = time.time()                     # end time\n",
    "print(\"'name' in student duration {}\".format(end2 - st2))"
   ]
  },
  {
   "cell_type": "markdown",
   "metadata": {},
   "source": [
    "### 1. defaultdict"
   ]
  },
  {
   "cell_type": "code",
   "execution_count": 14,
   "metadata": {},
   "outputs": [
    {
     "name": "stdout",
     "output_type": "stream",
     "text": [
      "defaultdict(<class 'int'>, {'b': 1, 'g': 1, ' ': 8, 'j': 1, 'e': 2, 'p': 1, 'r': 2, 'm': 1, 'l': 1, 'c': 1, 'f': 1, 'i': 1, 'd': 1, 'v': 1, 'n': 1, 'h': 1, 'T': 1, 'q': 1, 'k': 1, 's': 1, 'u': 2, 'y': 1, 'z': 1, 'a': 2, 'w': 1, 'o': 4, 'x': 1})\n",
      "defaultdict(<class 'list'>, {0: [2], 1: [3]})\n",
      "defaultdict(<class 'dict'>, {'student': {'school': 'University of Texas'}})\n",
      "defaultdict(<function <lambda> at 0x7fda20986598>, {0: [2, 0], 2: [0, 4]})\n"
     ]
    }
   ],
   "source": [
    "# defaultdict \n",
    "# - works exactly like a dictionary but prevent KeyError exception (when referenced key is not in dictionary)\n",
    "# - with defaultdict, the missing item is created (and assigning a default value)\n",
    "#      by calling the constructor to datatype passed to defaultdict \n",
    "\n",
    "# defaultdict with int\n",
    "word_count = defaultdict(int)                    # calls int() which produces 0\n",
    "document = \"The quick brown fox jumps over a lazy dog\"\n",
    "\n",
    "for word in document:\n",
    "    word_count[word] += 1\n",
    "\n",
    "print(word_count)\n",
    "\n",
    "# defauldict with list\n",
    "dd_list = defaultdict(list)                      # calls list type object - returns empty list\n",
    "dd_list[0] = [2]\n",
    "dd_list[1].append(3)\n",
    "\n",
    "print(dd_list)\n",
    "\n",
    "# defaultdict with dictionary\n",
    "dd_dict = defaultdict(dict)\n",
    "dd_dict['student']['school'] = \"University of Texas\"\n",
    "\n",
    "print(dd_dict)\n",
    "\n",
    "# defaultdict with function\n",
    "dd_pair = defaultdict(lambda: [0, 0])\n",
    "dd_pair[0][0] = 2\n",
    "dd_pair[2][1] = 4\n",
    "\n",
    "print(dd_pair)"
   ]
  },
  {
   "cell_type": "markdown",
   "metadata": {},
   "source": [
    "### 2. Counters"
   ]
  },
  {
   "cell_type": "code",
   "execution_count": 15,
   "metadata": {},
   "outputs": [
    {
     "name": "stdout",
     "output_type": "stream",
     "text": [
      "Counter({' ': 8, 'o': 4, 'e': 2, 'r': 2, 'u': 2, 'a': 2, 'b': 1, 'g': 1, 'j': 1, 'p': 1, 'm': 1, 'l': 1, 'c': 1, 'f': 1, 'i': 1, 'd': 1, 'v': 1, 'n': 1, 'h': 1, 'T': 1, 'q': 1, 'k': 1, 's': 1, 'y': 1, 'z': 1, 'w': 1, 'x': 1}) \n",
      "\n",
      "Count to 10:  Counter({0: 1, 1: 1, 2: 1, 3: 1, 4: 1, 5: 1, 6: 1, 7: 1, 8: 1, 9: 1}) \n",
      "\n",
      "word:  , count: 8\n",
      "word: o, count: 4\n",
      "word: e, count: 2\n",
      "word: r, count: 2\n",
      "word: u, count: 2\n"
     ]
    }
   ],
   "source": [
    "# Counter creates defaultdict of int() object - grouping items into {key: counts}\n",
    "\n",
    "documents = \"The quick brown fox jumps over a lazy dog\"\n",
    "word_count = Counter(documents)\n",
    "\n",
    "print(word_count,'\\n')\n",
    "print('Count to 10: ', Counter(range(10)),'\\n')\n",
    "\n",
    "# get frequency - 5 most common words\n",
    "for word, count in word_count.most_common(5):\n",
    "    print('word: {}, count: {}'.format(word, count))"
   ]
  },
  {
   "cell_type": "markdown",
   "metadata": {},
   "source": [
    "## Sets"
   ]
  },
  {
   "cell_type": "code",
   "execution_count": 20,
   "metadata": {},
   "outputs": [
    {
     "name": "stdout",
     "output_type": "stream",
     "text": [
      "my set: {1, 2, 12} has 3 elements\n",
      "12 was removed, the new set is {1, 2}\n"
     ]
    }
   ],
   "source": [
    "# set is used to store distinct elements\n",
    "\n",
    "my_set = set()\n",
    "my_set.add(2)\n",
    "my_set.add(1)\n",
    "my_set.add(12)\n",
    "\n",
    "item_numbers = len(my_set)\n",
    "\n",
    "print('my set: {} has {} elements'.format(my_set, item_numbers))\n",
    "\n",
    "my_set.remove(12)\n",
    "print('12 was removed, the new set is {}'.format(my_set))\n"
   ]
  },
  {
   "cell_type": "code",
   "execution_count": null,
   "metadata": {
    "collapsed": true
   },
   "outputs": [],
   "source": []
  }
 ],
 "metadata": {
  "kernelspec": {
   "display_name": "Python [conda root]",
   "language": "python",
   "name": "conda-root-py"
  },
  "language_info": {
   "codemirror_mode": {
    "name": "ipython",
    "version": 3
   },
   "file_extension": ".py",
   "mimetype": "text/x-python",
   "name": "python",
   "nbconvert_exporter": "python",
   "pygments_lexer": "ipython3",
   "version": "3.5.3"
  }
 },
 "nbformat": 4,
 "nbformat_minor": 2
}
