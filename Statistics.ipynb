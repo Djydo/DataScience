{
 "cells": [
  {
   "cell_type": "markdown",
   "metadata": {},
   "source": [
    "### Statistics"
   ]
  },
  {
   "cell_type": "markdown",
   "metadata": {},
   "source": [
    "####  Import Library"
   ]
  },
  {
   "cell_type": "code",
   "execution_count": 23,
   "metadata": {
    "collapsed": true
   },
   "outputs": [],
   "source": [
    "import matplotlib.pyplot as plt\n",
    "from collections import Counter\n",
    "import math"
   ]
  },
  {
   "cell_type": "code",
   "execution_count": 24,
   "metadata": {},
   "outputs": [
    {
     "data": {
      "image/png": "[encoded data removed]",
      "text/plain": [
       "<matplotlib.figure.Figure at 0x7f4df948a390>"
      ]
     },
     "metadata": {},
     "output_type": "display_data"
    }
   ],
   "source": [
    "num_friends = [100, 49, 41, 40, 25,\n",
    "               100, 50, 25, 32, 200, 50, 25, 32]\n",
    "\n",
    "friend_counts = Counter(num_friends)\n",
    "xs = range(101)\n",
    "ys = [friend_counts[x] for x in xs]\n",
    "plt.bar(xs, ys)\n",
    "plt.axis([0, 101, 0, 5])\n",
    "plt.title('Histogram of Friend Counts')\n",
    "plt.xlabel('# of friends')\n",
    "plt.ylabel('# of people')\n",
    "plt.show()"
   ]
  },
  {
   "cell_type": "markdown",
   "metadata": {},
   "source": [
    "### Statistics"
   ]
  },
  {
   "cell_type": "code",
   "execution_count": 32,
   "metadata": {},
   "outputs": [
    {
     "name": "stdout",
     "output_type": "stream",
     "text": [
      "largest value:  200\n",
      "smallest value:  25\n",
      "mean number of friends:  59.15384615384615\n",
      "friend at the middle:  41\n",
      "0.10 quantile:  25\n",
      "0.25 quantile:  32\n",
      "0.75 quantile:  50\n",
      "0.90 quantile:  100\n",
      "mode:  [25]\n",
      "range:  175\n",
      "x_i_minus_xbar:  [40.84615384615385, -10.153846153846153, -18.153846153846153, -19.153846153846153, -34.15384615384615, 40.84615384615385, -9.153846153846153, -34.15384615384615, -27.153846153846153, 140.84615384615384, -9.153846153846153, -34.15384615384615, -27.153846153846153]\n",
      "variance:  2426.307692307692\n",
      "standard deviation:  49.25756482315881\n",
      "inter quartile:  18\n",
      "covariance:  1.8503717077085943e-16\n",
      "correlation:  7.906409519701293e-18\n"
     ]
    }
   ],
   "source": [
    "\n",
    "def mean(x):    \n",
    "    result = sum(x)/len(x)    \n",
    "    return result\n",
    "\n",
    "def median(v):\n",
    "    '''find the \"middle value' in sorted v'''\n",
    "    n = len(v)\n",
    "    sorted_v = sorted(v)\n",
    "    midpoint = n//2\n",
    "    \n",
    "    if n % 2 == 1:  # True: when n is odd\n",
    "        return sorted_v[midpoint]\n",
    "    else:          # True: when n is even\n",
    "        lo = midpoint - 1\n",
    "        hi = midpoint\n",
    "        return (sorted_v[lo] + sorted_v[hi])/2\n",
    "    \n",
    "def quantile(x, p):\n",
    "    '''returns the percentile value in x'''\n",
    "    p_index = int(p * len(x))\n",
    "    return sorted(x)[p_index]\n",
    "\n",
    "def mode(x):\n",
    "    '''returns a list, might be more than one mode'''\n",
    "    counts = Counter(x)\n",
    "    max_count = max(counts.values())\n",
    "    return [x_i for x_i, count in counts.items()\n",
    "            if count == max_count]\n",
    "\n",
    "def dot(v, w):\n",
    "    '''v_1 * w_1 + ... + v_n * w_n'''\n",
    "    return sum(v_i * w_i for v_i, w_i in zip(v, w))\n",
    "\n",
    "def sum_of_squares(v):\n",
    "    '''v_1 * v_1 + ... + v_n * v_n'''\n",
    "    return dot(v, v)\n",
    "\n",
    "\n",
    "def data_range(x):\n",
    "    return max(x) - min(x)\n",
    "\n",
    "def de_mean(x):\n",
    "    '''translate x by subtracting its mean (so the result has mean 0)'''\n",
    "    x_bar = mean(x)\n",
    "    return [x_i - x_bar for x_i in x]\n",
    "\n",
    "def variance(x):\n",
    "    '''assume x has at least two elements'''\n",
    "    n = len(x)\n",
    "    deviations = de_mean(x)\n",
    "    return sum_of_squares(deviations)/(n-1)\n",
    "    \n",
    "def standard_dev(v):\n",
    "    return math.sqrt(variance(v))\n",
    "\n",
    "def interquartile_range(x):\n",
    "    return quantile(x, 0.75) - quantile(x, 0.25)\n",
    "\n",
    "def covariance(x, y):\n",
    "    n = len(x)\n",
    "    return dot(de_mean(x), de_mean(y))/(n-1)\n",
    "\n",
    "def correlation(x, y):\n",
    "    stdev_x = standard_dev(x)\n",
    "    stdev_y = standard_dev(y)\n",
    "    if stdev_x > 0 and stdev_y > 0:\n",
    "        return covariance(x, y) / stdev_x / stdev_y\n",
    "    \n",
    "    \n",
    "if __name__ == \"__main__\":    \n",
    "        \n",
    "    largest_value = max(num_friends)\n",
    "    smallest_value = min(num_friends)\n",
    "    print('largest value: ', largest_value)\n",
    "    print('smallest value: ', smallest_value)\n",
    "\n",
    "    sorted_value = sorted(num_friends)\n",
    "    smallest_value_v2 = sorted_value[0]\n",
    "    second_smallest_value = sorted_value[1]\n",
    "    second_largest_value = sorted_value[-2]\n",
    "\n",
    "    average_number_of_friends = mean(num_friends)\n",
    "    print('mean number of friends: ', average_number_of_friends)\n",
    "\n",
    "    median_of_friend = median(num_friends)\n",
    "    print('friend at the middle: ', median_of_friend)\n",
    "\n",
    "    quantile_test1 = quantile(num_friends, 0.10)\n",
    "    quantile_test2 = quantile(num_friends, 0.25)\n",
    "    quantile_test3 = quantile(num_friends, 0.75)\n",
    "    quantile_test4 = quantile(num_friends, 0.90)\n",
    "\n",
    "    print('0.10 quantile: ', quantile_test1)\n",
    "    print('0.25 quantile: ', quantile_test2)\n",
    "    print('0.75 quantile: ', quantile_test3)\n",
    "    print('0.90 quantile: ', quantile_test4)\n",
    "\n",
    "    mode_test = mode(num_friends)\n",
    "    print('mode: ', mode_test)\n",
    "\n",
    "    range_test = data_range(num_friends)\n",
    "    print('range: ', range_test)\n",
    "\n",
    "    de_mean_test = de_mean(num_friends)\n",
    "    print('x_i_minus_xbar: ', de_mean_test)\n",
    "\n",
    "    variance_test = variance(num_friends)\n",
    "    print('variance: ', variance_test)\n",
    "\n",
    "    std_dev_test = standard_dev(num_friends)\n",
    "    print('standard deviation: ', std_dev_test)\n",
    "\n",
    "    inter_quartile_test = interquartile_range(num_friends)\n",
    "    print('inter quartile: ', inter_quartile_test)\n",
    "\n",
    "    covariance_test = covariance(num_friends, ys)\n",
    "    print('covariance: ', covariance_test)\n",
    "\n",
    "    correlation_test = correlation(num_friends, ys)\n",
    "    print('correlation: ', correlation_test)\n"
   ]
  },
  {
   "cell_type": "code",
   "execution_count": null,
   "metadata": {
    "collapsed": true
   },
   "outputs": [],
   "source": []
  }
 ],
 "metadata": {
  "kernelspec": {
   "display_name": "Python [conda root]",
   "language": "python",
   "name": "conda-root-py"
  },
  "language_info": {
   "codemirror_mode": {
    "name": "ipython",
    "version": 3
   },
   "file_extension": ".py",
   "mimetype": "text/x-python",
   "name": "python",
   "nbconvert_exporter": "python",
   "pygments_lexer": "ipython3",
   "version": "3.5.3"
  }
 },
 "nbformat": 4,
 "nbformat_minor": 2
}
