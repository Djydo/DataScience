{
 "cells": [
  {
   "cell_type": "markdown",
   "metadata": {},
   "source": [
    "### K-Nearest Neighbors"
   ]
  },
  {
   "cell_type": "code",
   "execution_count": 1,
   "metadata": {
    "collapsed": true
   },
   "outputs": [],
   "source": [
    "from collections import Counter\n",
    "import matplotlib.pyplot as plt"
   ]
  },
  {
   "cell_type": "code",
   "execution_count": 4,
   "metadata": {},
   "outputs": [],
   "source": [
    "def raw_majority_vote(labels):\n",
    "    votes = Counter(labels)\n",
    "    winner, _ = votes.most_common(1)[0]\n",
    "    return winner\n",
    "\n",
    "def majority_vote(labels):\n",
    "    \"\"\"assumes that labels are ordered from nearest to farthest\"\"\"\n",
    "    vote_counts = Counter(labels)\n",
    "    winner, winner_count = vote_counts.most_common(1)[0]\n",
    "    num_winners = len([count\n",
    "                       for count in vote_counts.values()\n",
    "                       if count == winner_count])\n",
    "    if num_winners == 1:\n",
    "        return winner                      # unique winner, so return it\n",
    "    else:\n",
    "        return majority_vote(labels[:-1])  # try again without the farthest\n",
    "    \n",
    "    \n",
    "def knn_classify(k, labeled_points, new_point):\n",
    "    \"\"\"each labeled points should be a pair (point, label)\"\"\"\n",
    "    \n",
    "    #order the labeled points from nearest to farthest\n",
    "    #by_distance = sorted(labeled_points, \n",
    "    #                     lambda(point): distance(point, new_point))\n",
    "    \n",
    "    # find the labels for the k closest\n",
    "    k_nearest_labels = [label for _, label in by_distance[:k]]\n",
    "    \n",
    "    # and let them vote\n",
    "    return majority_vote(k_nearest_labels)\n",
    "    "
   ]
  },
  {
   "cell_type": "code",
   "execution_count": null,
   "metadata": {
    "collapsed": true
   },
   "outputs": [],
   "source": [
    "if __name__ == \"__main__\":\n",
    "    \n",
    "    # each entry is ([logitude, latitude], favorite_language)\n",
    "    cities = [([-122.3, 47.53], \"Python\"),        # Seattle\n",
    "              ([-96.85, 32.85], \"Java\"),          # Austin\n",
    "              ([-89.33, 43.13], \"R\"),             # Madison\n",
    "              # ... and so on\n",
    "             ]\n",
    "               \n",
    "    # we want each language to have a different marker and color\n",
    "    markers = {\"Java\" : \"o\", \"Python\" : \"s\", \"R\" : \"^\"}\n",
    "    colors = {\"Java\" : \"r\", \"Python\" : \"b\", \"R\" : \"g\"}  \n",
    "    \n",
    "    for(longitude, latitude), language in cities:\n",
    "        plots[language][0].append(longitude)\n",
    "        plots[language][1].append(latitude)\n",
    "        \n",
    "    # create a scatter series for each language\n",
    "    for language, (x, y) in plots.iteritems():\n",
    "        plt.scatter(x, y, color=colors[language], marker=markers[language],\n",
    "                    label=language, zorder=10)\n",
    "        plot_state_borders(plt)         # pretend we have a function that does this\n",
    "        \n",
    "        plt.legend(loc=0)\n",
    "        plt.axis([-130, -60, 20, 55])\n",
    "        \n",
    "        plt.title(\"Favorite Programming Languages\")\n",
    "        plt.show()\n",
    "        \n",
    "        \n",
    "    # try several different values for k\n",
    "    for k in [1, 3, 5, 7]:\n",
    "        num_correct = 0\n",
    "        \n",
    "        for city in cities:\n",
    "            location, actual_language = city\n",
    "            othe_cities = [other_city\n",
    "                           for other_city in cities\n",
    "                           if other_city != city]\n",
    "            \n",
    "            predicated_language = knn_classify(k, other_cities, location)\n",
    "            \n",
    "            if predicated_language == actual_language:\n",
    "                num_correct += 1\n",
    "                \n",
    "        print(k, \"neighbors[s]:\", num_correct, \"correct_out_of\", len(cities))\n",
    "        \n",
    "    plots = {\"Java\" : ([], []), \"Python\" : ([], [])} \n",
    "    \n",
    "    \n",
    "    \n",
    "    \n",
    "    \n",
    "    \n",
    "    \n",
    "    "
   ]
  }
 ],
 "metadata": {
  "kernelspec": {
   "display_name": "Python [conda root]",
   "language": "python",
   "name": "conda-root-py"
  },
  "language_info": {
   "codemirror_mode": {
    "name": "ipython",
    "version": 3
   },
   "file_extension": ".py",
   "mimetype": "text/x-python",
   "name": "python",
   "nbconvert_exporter": "python",
   "pygments_lexer": "ipython3",
   "version": "3.5.3"
  }
 },
 "nbformat": 4,
 "nbformat_minor": 2
}
